{
 "cells": [
  {
   "cell_type": "code",
   "execution_count": 1,
   "metadata": {
    "_cell_guid": "b1076dfc-b9ad-4769-8c92-a6c4dae69d19",
    "_uuid": "8f2839f25d086af736a60e9eeb907d3b93b6e0e5",
    "execution": {
     "iopub.execute_input": "2025-08-15T06:22:25.138543Z",
     "iopub.status.busy": "2025-08-15T06:22:25.138294Z",
     "iopub.status.idle": "2025-08-15T06:22:27.297285Z",
     "shell.execute_reply": "2025-08-15T06:22:27.296638Z",
     "shell.execute_reply.started": "2025-08-15T06:22:25.138518Z"
    },
    "trusted": true
   },
   "outputs": [
    {
     "name": "stdout",
     "output_type": "stream",
     "text": [
      "/kaggle/input/hindi-english-parallel-corpus/hindi_english_parallel.csv\n",
      "/kaggle/input/english-to-hindi-parallel-dataset/newdata.csv\n"
     ]
    }
   ],
   "source": [
    "# This Python 3 environment comes with many helpful analytics libraries installed\n",
    "# It is defined by the kaggle/python Docker image: https://github.com/kaggle/docker-python\n",
    "# For example, here's several helpful packages to load\n",
    "\n",
    "import numpy as np # linear algebra\n",
    "import pandas as pd # data processing, CSV file I/O (e.g. pd.read_csv)\n",
    "\n",
    "# Input data files are available in the read-only \"../input/\" directory\n",
    "# For example, running this (by clicking run or pressing Shift+Enter) will list all files under the input directory\n",
    "\n",
    "import os\n",
    "for dirname, _, filenames in os.walk('/kaggle/input'):\n",
    "    for filename in filenames:\n",
    "        print(os.path.join(dirname, filename))\n",
    "\n",
    "# You can write up to 20GB to the current directory (/kaggle/working/) that gets preserved as output when you create a version using \"Save & Run All\" \n",
    "# You can also write temporary files to /kaggle/temp/, but they won't be saved outside of the current session"
   ]
  },
  {
   "cell_type": "code",
   "execution_count": 26,
   "metadata": {
    "execution": {
     "iopub.execute_input": "2025-08-13T04:34:23.586420Z",
     "iopub.status.busy": "2025-08-13T04:34:23.586107Z",
     "iopub.status.idle": "2025-08-13T04:34:23.788202Z",
     "shell.execute_reply": "2025-08-13T04:34:23.787129Z",
     "shell.execute_reply.started": "2025-08-13T04:34:23.586395Z"
    },
    "trusted": true
   },
   "outputs": [],
   "source": [
    "# !rm -rf /kaggle/working/*"
   ]
  },
  {
   "cell_type": "code",
   "execution_count": 4,
   "metadata": {
    "execution": {
     "iopub.execute_input": "2025-08-13T05:58:23.674834Z",
     "iopub.status.busy": "2025-08-13T05:58:23.673949Z",
     "iopub.status.idle": "2025-08-13T06:00:17.519845Z",
     "shell.execute_reply": "2025-08-13T06:00:17.519073Z",
     "shell.execute_reply.started": "2025-08-13T05:58:23.674805Z"
    },
    "trusted": true
   },
   "outputs": [
    {
     "name": "stdout",
     "output_type": "stream",
     "text": [
      "Collecting sacrebleu\n",
      "  Downloading sacrebleu-2.5.1-py3-none-any.whl.metadata (51 kB)\n",
      "\u001b[2K     \u001b[90m━━━━━━━━━━━━━━━━━━━━━━━━━━━━━━━━━━━━━━━\u001b[0m \u001b[32m51.8/51.8 kB\u001b[0m \u001b[31m424.3 kB/s\u001b[0m eta \u001b[36m0:00:00\u001b[0ma \u001b[36m0:00:01\u001b[0m\n",
      "\u001b[?25hCollecting evaluate\n",
      "  Downloading evaluate-0.4.5-py3-none-any.whl.metadata (9.5 kB)\n",
      "Collecting sacremoses\n",
      "  Downloading sacremoses-0.1.1-py3-none-any.whl.metadata (8.3 kB)\n",
      "Collecting portalocker (from sacrebleu)\n",
      "  Downloading portalocker-3.2.0-py3-none-any.whl.metadata (8.7 kB)\n",
      "Requirement already satisfied: regex in /usr/local/lib/python3.11/dist-packages (from sacrebleu) (2024.11.6)\n",
      "Requirement already satisfied: tabulate>=0.8.9 in /usr/local/lib/python3.11/dist-packages (from sacrebleu) (0.9.0)\n",
      "Requirement already satisfied: numpy>=1.17 in /usr/local/lib/python3.11/dist-packages (from sacrebleu) (1.26.4)\n",
      "Requirement already satisfied: colorama in /usr/local/lib/python3.11/dist-packages (from sacrebleu) (0.4.6)\n",
      "Requirement already satisfied: lxml in /usr/local/lib/python3.11/dist-packages (from sacrebleu) (5.4.0)\n",
      "Requirement already satisfied: datasets>=2.0.0 in /usr/local/lib/python3.11/dist-packages (from evaluate) (3.6.0)\n",
      "Requirement already satisfied: dill in /usr/local/lib/python3.11/dist-packages (from evaluate) (0.3.8)\n",
      "Requirement already satisfied: pandas in /usr/local/lib/python3.11/dist-packages (from evaluate) (2.2.3)\n",
      "Requirement already satisfied: requests>=2.19.0 in /usr/local/lib/python3.11/dist-packages (from evaluate) (2.32.4)\n",
      "Requirement already satisfied: tqdm>=4.62.1 in /usr/local/lib/python3.11/dist-packages (from evaluate) (4.67.1)\n",
      "Requirement already satisfied: xxhash in /usr/local/lib/python3.11/dist-packages (from evaluate) (3.5.0)\n",
      "Requirement already satisfied: multiprocess in /usr/local/lib/python3.11/dist-packages (from evaluate) (0.70.16)\n",
      "Requirement already satisfied: fsspec>=2021.05.0 in /usr/local/lib/python3.11/dist-packages (from fsspec[http]>=2021.05.0->evaluate) (2025.5.1)\n",
      "Requirement already satisfied: huggingface-hub>=0.7.0 in /usr/local/lib/python3.11/dist-packages (from evaluate) (0.33.1)\n",
      "Requirement already satisfied: packaging in /usr/local/lib/python3.11/dist-packages (from evaluate) (25.0)\n",
      "Requirement already satisfied: click in /usr/local/lib/python3.11/dist-packages (from sacremoses) (8.2.1)\n",
      "Requirement already satisfied: joblib in /usr/local/lib/python3.11/dist-packages (from sacremoses) (1.5.1)\n",
      "Requirement already satisfied: filelock in /usr/local/lib/python3.11/dist-packages (from datasets>=2.0.0->evaluate) (3.18.0)\n",
      "Requirement already satisfied: pyarrow>=15.0.0 in /usr/local/lib/python3.11/dist-packages (from datasets>=2.0.0->evaluate) (19.0.1)\n",
      "Collecting fsspec>=2021.05.0 (from fsspec[http]>=2021.05.0->evaluate)\n",
      "  Downloading fsspec-2025.3.0-py3-none-any.whl.metadata (11 kB)\n",
      "Requirement already satisfied: pyyaml>=5.1 in /usr/local/lib/python3.11/dist-packages (from datasets>=2.0.0->evaluate) (6.0.2)\n",
      "Requirement already satisfied: aiohttp!=4.0.0a0,!=4.0.0a1 in /usr/local/lib/python3.11/dist-packages (from fsspec[http]>=2021.05.0->evaluate) (3.12.13)\n",
      "Requirement already satisfied: typing-extensions>=3.7.4.3 in /usr/local/lib/python3.11/dist-packages (from huggingface-hub>=0.7.0->evaluate) (4.14.0)\n",
      "Requirement already satisfied: hf-xet<2.0.0,>=1.1.2 in /usr/local/lib/python3.11/dist-packages (from huggingface-hub>=0.7.0->evaluate) (1.1.5)\n",
      "Requirement already satisfied: mkl_fft in /usr/local/lib/python3.11/dist-packages (from numpy>=1.17->sacrebleu) (1.3.8)\n",
      "Requirement already satisfied: mkl_random in /usr/local/lib/python3.11/dist-packages (from numpy>=1.17->sacrebleu) (1.2.4)\n",
      "Requirement already satisfied: mkl_umath in /usr/local/lib/python3.11/dist-packages (from numpy>=1.17->sacrebleu) (0.1.1)\n",
      "Requirement already satisfied: mkl in /usr/local/lib/python3.11/dist-packages (from numpy>=1.17->sacrebleu) (2025.2.0)\n",
      "Requirement already satisfied: tbb4py in /usr/local/lib/python3.11/dist-packages (from numpy>=1.17->sacrebleu) (2022.2.0)\n",
      "Requirement already satisfied: mkl-service in /usr/local/lib/python3.11/dist-packages (from numpy>=1.17->sacrebleu) (2.4.1)\n",
      "Requirement already satisfied: charset_normalizer<4,>=2 in /usr/local/lib/python3.11/dist-packages (from requests>=2.19.0->evaluate) (3.4.2)\n",
      "Requirement already satisfied: idna<4,>=2.5 in /usr/local/lib/python3.11/dist-packages (from requests>=2.19.0->evaluate) (3.10)\n",
      "Requirement already satisfied: urllib3<3,>=1.21.1 in /usr/local/lib/python3.11/dist-packages (from requests>=2.19.0->evaluate) (2.5.0)\n",
      "Requirement already satisfied: certifi>=2017.4.17 in /usr/local/lib/python3.11/dist-packages (from requests>=2.19.0->evaluate) (2025.6.15)\n",
      "Requirement already satisfied: python-dateutil>=2.8.2 in /usr/local/lib/python3.11/dist-packages (from pandas->evaluate) (2.9.0.post0)\n",
      "Requirement already satisfied: pytz>=2020.1 in /usr/local/lib/python3.11/dist-packages (from pandas->evaluate) (2025.2)\n",
      "Requirement already satisfied: tzdata>=2022.7 in /usr/local/lib/python3.11/dist-packages (from pandas->evaluate) (2025.2)\n",
      "Requirement already satisfied: aiohappyeyeballs>=2.5.0 in /usr/local/lib/python3.11/dist-packages (from aiohttp!=4.0.0a0,!=4.0.0a1->fsspec[http]>=2021.05.0->evaluate) (2.6.1)\n",
      "Requirement already satisfied: aiosignal>=1.1.2 in /usr/local/lib/python3.11/dist-packages (from aiohttp!=4.0.0a0,!=4.0.0a1->fsspec[http]>=2021.05.0->evaluate) (1.3.2)\n",
      "Requirement already satisfied: attrs>=17.3.0 in /usr/local/lib/python3.11/dist-packages (from aiohttp!=4.0.0a0,!=4.0.0a1->fsspec[http]>=2021.05.0->evaluate) (25.3.0)\n",
      "Requirement already satisfied: frozenlist>=1.1.1 in /usr/local/lib/python3.11/dist-packages (from aiohttp!=4.0.0a0,!=4.0.0a1->fsspec[http]>=2021.05.0->evaluate) (1.7.0)\n",
      "Requirement already satisfied: multidict<7.0,>=4.5 in /usr/local/lib/python3.11/dist-packages (from aiohttp!=4.0.0a0,!=4.0.0a1->fsspec[http]>=2021.05.0->evaluate) (6.6.3)\n",
      "Requirement already satisfied: propcache>=0.2.0 in /usr/local/lib/python3.11/dist-packages (from aiohttp!=4.0.0a0,!=4.0.0a1->fsspec[http]>=2021.05.0->evaluate) (0.3.2)\n",
      "Requirement already satisfied: yarl<2.0,>=1.17.0 in /usr/local/lib/python3.11/dist-packages (from aiohttp!=4.0.0a0,!=4.0.0a1->fsspec[http]>=2021.05.0->evaluate) (1.20.1)\n",
      "Requirement already satisfied: six>=1.5 in /usr/local/lib/python3.11/dist-packages (from python-dateutil>=2.8.2->pandas->evaluate) (1.17.0)\n",
      "Requirement already satisfied: intel-openmp<2026,>=2024 in /usr/local/lib/python3.11/dist-packages (from mkl->numpy>=1.17->sacrebleu) (2024.2.0)\n",
      "Requirement already satisfied: tbb==2022.* in /usr/local/lib/python3.11/dist-packages (from mkl->numpy>=1.17->sacrebleu) (2022.2.0)\n",
      "Requirement already satisfied: tcmlib==1.* in /usr/local/lib/python3.11/dist-packages (from tbb==2022.*->mkl->numpy>=1.17->sacrebleu) (1.4.0)\n",
      "Requirement already satisfied: intel-cmplr-lib-rt in /usr/local/lib/python3.11/dist-packages (from mkl_umath->numpy>=1.17->sacrebleu) (2024.2.0)\n",
      "Requirement already satisfied: intel-cmplr-lib-ur==2024.2.0 in /usr/local/lib/python3.11/dist-packages (from intel-openmp<2026,>=2024->mkl->numpy>=1.17->sacrebleu) (2024.2.0)\n",
      "Downloading sacrebleu-2.5.1-py3-none-any.whl (104 kB)\n",
      "\u001b[2K   \u001b[90m━━━━━━━━━━━━━━━━━━━━━━━━━━━━━━━━━━━━━━━━\u001b[0m \u001b[32m104.1/104.1 kB\u001b[0m \u001b[31m1.0 MB/s\u001b[0m eta \u001b[36m0:00:00\u001b[0m \u001b[36m0:00:01\u001b[0m\n",
      "\u001b[?25hDownloading evaluate-0.4.5-py3-none-any.whl (84 kB)\n",
      "\u001b[2K   \u001b[90m━━━━━━━━━━━━━━━━━━━━━━━━━━━━━━━━━━━━━━━━\u001b[0m \u001b[32m84.1/84.1 kB\u001b[0m \u001b[31m2.5 MB/s\u001b[0m eta \u001b[36m0:00:00\u001b[0m\n",
      "\u001b[?25hDownloading sacremoses-0.1.1-py3-none-any.whl (897 kB)\n",
      "\u001b[2K   \u001b[90m━━━━━━━━━━━━━━━━━━━━━━━━━━━━━━━━━━━━━━━━\u001b[0m \u001b[32m897.5/897.5 kB\u001b[0m \u001b[31m4.3 MB/s\u001b[0m eta \u001b[36m0:00:00\u001b[0ma \u001b[36m0:00:01\u001b[0m\n",
      "\u001b[?25hDownloading fsspec-2025.3.0-py3-none-any.whl (193 kB)\n",
      "\u001b[2K   \u001b[90m━━━━━━━━━━━━━━━━━━━━━━━━━━━━━━━━━━━━━━━━\u001b[0m \u001b[32m193.6/193.6 kB\u001b[0m \u001b[31m10.4 MB/s\u001b[0m eta \u001b[36m0:00:00\u001b[0m\n",
      "\u001b[?25hDownloading portalocker-3.2.0-py3-none-any.whl (22 kB)\n",
      "Installing collected packages: sacremoses, portalocker, fsspec, sacrebleu, evaluate\n",
      "  Attempting uninstall: fsspec\n",
      "    Found existing installation: fsspec 2025.5.1\n",
      "    Uninstalling fsspec-2025.5.1:\n",
      "      Successfully uninstalled fsspec-2025.5.1\n",
      "\u001b[31mERROR: pip's dependency resolver does not currently take into account all the packages that are installed. This behaviour is the source of the following dependency conflicts.\n",
      "bigframes 2.8.0 requires google-cloud-bigquery-storage<3.0.0,>=2.30.0, which is not installed.\n",
      "cesium 0.12.4 requires numpy<3.0,>=2.0, but you have numpy 1.26.4 which is incompatible.\n",
      "torch 2.6.0+cu124 requires nvidia-cublas-cu12==12.4.5.8; platform_system == \"Linux\" and platform_machine == \"x86_64\", but you have nvidia-cublas-cu12 12.5.3.2 which is incompatible.\n",
      "torch 2.6.0+cu124 requires nvidia-cuda-cupti-cu12==12.4.127; platform_system == \"Linux\" and platform_machine == \"x86_64\", but you have nvidia-cuda-cupti-cu12 12.5.82 which is incompatible.\n",
      "torch 2.6.0+cu124 requires nvidia-cuda-nvrtc-cu12==12.4.127; platform_system == \"Linux\" and platform_machine == \"x86_64\", but you have nvidia-cuda-nvrtc-cu12 12.5.82 which is incompatible.\n",
      "torch 2.6.0+cu124 requires nvidia-cuda-runtime-cu12==12.4.127; platform_system == \"Linux\" and platform_machine == \"x86_64\", but you have nvidia-cuda-runtime-cu12 12.5.82 which is incompatible.\n",
      "torch 2.6.0+cu124 requires nvidia-cudnn-cu12==9.1.0.70; platform_system == \"Linux\" and platform_machine == \"x86_64\", but you have nvidia-cudnn-cu12 9.3.0.75 which is incompatible.\n",
      "torch 2.6.0+cu124 requires nvidia-cufft-cu12==11.2.1.3; platform_system == \"Linux\" and platform_machine == \"x86_64\", but you have nvidia-cufft-cu12 11.2.3.61 which is incompatible.\n",
      "torch 2.6.0+cu124 requires nvidia-curand-cu12==10.3.5.147; platform_system == \"Linux\" and platform_machine == \"x86_64\", but you have nvidia-curand-cu12 10.3.6.82 which is incompatible.\n",
      "torch 2.6.0+cu124 requires nvidia-cusolver-cu12==11.6.1.9; platform_system == \"Linux\" and platform_machine == \"x86_64\", but you have nvidia-cusolver-cu12 11.6.3.83 which is incompatible.\n",
      "torch 2.6.0+cu124 requires nvidia-cusparse-cu12==12.3.1.170; platform_system == \"Linux\" and platform_machine == \"x86_64\", but you have nvidia-cusparse-cu12 12.5.1.3 which is incompatible.\n",
      "torch 2.6.0+cu124 requires nvidia-nvjitlink-cu12==12.4.127; platform_system == \"Linux\" and platform_machine == \"x86_64\", but you have nvidia-nvjitlink-cu12 12.5.82 which is incompatible.\n",
      "gcsfs 2025.3.2 requires fsspec==2025.3.2, but you have fsspec 2025.3.0 which is incompatible.\n",
      "bigframes 2.8.0 requires google-cloud-bigquery[bqstorage,pandas]>=3.31.0, but you have google-cloud-bigquery 3.25.0 which is incompatible.\n",
      "bigframes 2.8.0 requires rich<14,>=12.4.4, but you have rich 14.0.0 which is incompatible.\u001b[0m\u001b[31m\n",
      "\u001b[0mSuccessfully installed evaluate-0.4.5 fsspec-2025.3.0 portalocker-3.2.0 sacrebleu-2.5.1 sacremoses-0.1.1\n",
      "Collecting bitsandbytes\n",
      "  Downloading bitsandbytes-0.47.0-py3-none-manylinux_2_24_x86_64.whl.metadata (11 kB)\n",
      "Requirement already satisfied: torch<3,>=2.2 in /usr/local/lib/python3.11/dist-packages (from bitsandbytes) (2.6.0+cu124)\n",
      "Requirement already satisfied: numpy>=1.17 in /usr/local/lib/python3.11/dist-packages (from bitsandbytes) (1.26.4)\n",
      "Requirement already satisfied: mkl_fft in /usr/local/lib/python3.11/dist-packages (from numpy>=1.17->bitsandbytes) (1.3.8)\n",
      "Requirement already satisfied: mkl_random in /usr/local/lib/python3.11/dist-packages (from numpy>=1.17->bitsandbytes) (1.2.4)\n",
      "Requirement already satisfied: mkl_umath in /usr/local/lib/python3.11/dist-packages (from numpy>=1.17->bitsandbytes) (0.1.1)\n",
      "Requirement already satisfied: mkl in /usr/local/lib/python3.11/dist-packages (from numpy>=1.17->bitsandbytes) (2025.2.0)\n",
      "Requirement already satisfied: tbb4py in /usr/local/lib/python3.11/dist-packages (from numpy>=1.17->bitsandbytes) (2022.2.0)\n",
      "Requirement already satisfied: mkl-service in /usr/local/lib/python3.11/dist-packages (from numpy>=1.17->bitsandbytes) (2.4.1)\n",
      "Requirement already satisfied: filelock in /usr/local/lib/python3.11/dist-packages (from torch<3,>=2.2->bitsandbytes) (3.18.0)\n",
      "Requirement already satisfied: typing-extensions>=4.10.0 in /usr/local/lib/python3.11/dist-packages (from torch<3,>=2.2->bitsandbytes) (4.14.0)\n",
      "Requirement already satisfied: networkx in /usr/local/lib/python3.11/dist-packages (from torch<3,>=2.2->bitsandbytes) (3.5)\n",
      "Requirement already satisfied: jinja2 in /usr/local/lib/python3.11/dist-packages (from torch<3,>=2.2->bitsandbytes) (3.1.6)\n",
      "Requirement already satisfied: fsspec in /usr/local/lib/python3.11/dist-packages (from torch<3,>=2.2->bitsandbytes) (2025.3.0)\n",
      "Collecting nvidia-cuda-nvrtc-cu12==12.4.127 (from torch<3,>=2.2->bitsandbytes)\n",
      "  Downloading nvidia_cuda_nvrtc_cu12-12.4.127-py3-none-manylinux2014_x86_64.whl.metadata (1.5 kB)\n",
      "Collecting nvidia-cuda-runtime-cu12==12.4.127 (from torch<3,>=2.2->bitsandbytes)\n",
      "  Downloading nvidia_cuda_runtime_cu12-12.4.127-py3-none-manylinux2014_x86_64.whl.metadata (1.5 kB)\n",
      "Collecting nvidia-cuda-cupti-cu12==12.4.127 (from torch<3,>=2.2->bitsandbytes)\n",
      "  Downloading nvidia_cuda_cupti_cu12-12.4.127-py3-none-manylinux2014_x86_64.whl.metadata (1.6 kB)\n",
      "Collecting nvidia-cudnn-cu12==9.1.0.70 (from torch<3,>=2.2->bitsandbytes)\n",
      "  Downloading nvidia_cudnn_cu12-9.1.0.70-py3-none-manylinux2014_x86_64.whl.metadata (1.6 kB)\n",
      "Collecting nvidia-cublas-cu12==12.4.5.8 (from torch<3,>=2.2->bitsandbytes)\n",
      "  Downloading nvidia_cublas_cu12-12.4.5.8-py3-none-manylinux2014_x86_64.whl.metadata (1.5 kB)\n",
      "Collecting nvidia-cufft-cu12==11.2.1.3 (from torch<3,>=2.2->bitsandbytes)\n",
      "  Downloading nvidia_cufft_cu12-11.2.1.3-py3-none-manylinux2014_x86_64.whl.metadata (1.5 kB)\n",
      "Collecting nvidia-curand-cu12==10.3.5.147 (from torch<3,>=2.2->bitsandbytes)\n",
      "  Downloading nvidia_curand_cu12-10.3.5.147-py3-none-manylinux2014_x86_64.whl.metadata (1.5 kB)\n",
      "Collecting nvidia-cusolver-cu12==11.6.1.9 (from torch<3,>=2.2->bitsandbytes)\n",
      "  Downloading nvidia_cusolver_cu12-11.6.1.9-py3-none-manylinux2014_x86_64.whl.metadata (1.6 kB)\n",
      "Collecting nvidia-cusparse-cu12==12.3.1.170 (from torch<3,>=2.2->bitsandbytes)\n",
      "  Downloading nvidia_cusparse_cu12-12.3.1.170-py3-none-manylinux2014_x86_64.whl.metadata (1.6 kB)\n",
      "Requirement already satisfied: nvidia-cusparselt-cu12==0.6.2 in /usr/local/lib/python3.11/dist-packages (from torch<3,>=2.2->bitsandbytes) (0.6.2)\n",
      "Requirement already satisfied: nvidia-nccl-cu12==2.21.5 in /usr/local/lib/python3.11/dist-packages (from torch<3,>=2.2->bitsandbytes) (2.21.5)\n",
      "Requirement already satisfied: nvidia-nvtx-cu12==12.4.127 in /usr/local/lib/python3.11/dist-packages (from torch<3,>=2.2->bitsandbytes) (12.4.127)\n",
      "Collecting nvidia-nvjitlink-cu12==12.4.127 (from torch<3,>=2.2->bitsandbytes)\n",
      "  Downloading nvidia_nvjitlink_cu12-12.4.127-py3-none-manylinux2014_x86_64.whl.metadata (1.5 kB)\n",
      "Requirement already satisfied: triton==3.2.0 in /usr/local/lib/python3.11/dist-packages (from torch<3,>=2.2->bitsandbytes) (3.2.0)\n",
      "Requirement already satisfied: sympy==1.13.1 in /usr/local/lib/python3.11/dist-packages (from torch<3,>=2.2->bitsandbytes) (1.13.1)\n",
      "Requirement already satisfied: mpmath<1.4,>=1.1.0 in /usr/local/lib/python3.11/dist-packages (from sympy==1.13.1->torch<3,>=2.2->bitsandbytes) (1.3.0)\n",
      "Requirement already satisfied: MarkupSafe>=2.0 in /usr/local/lib/python3.11/dist-packages (from jinja2->torch<3,>=2.2->bitsandbytes) (3.0.2)\n",
      "Requirement already satisfied: intel-openmp<2026,>=2024 in /usr/local/lib/python3.11/dist-packages (from mkl->numpy>=1.17->bitsandbytes) (2024.2.0)\n",
      "Requirement already satisfied: tbb==2022.* in /usr/local/lib/python3.11/dist-packages (from mkl->numpy>=1.17->bitsandbytes) (2022.2.0)\n",
      "Requirement already satisfied: tcmlib==1.* in /usr/local/lib/python3.11/dist-packages (from tbb==2022.*->mkl->numpy>=1.17->bitsandbytes) (1.4.0)\n",
      "Requirement already satisfied: intel-cmplr-lib-rt in /usr/local/lib/python3.11/dist-packages (from mkl_umath->numpy>=1.17->bitsandbytes) (2024.2.0)\n",
      "Requirement already satisfied: intel-cmplr-lib-ur==2024.2.0 in /usr/local/lib/python3.11/dist-packages (from intel-openmp<2026,>=2024->mkl->numpy>=1.17->bitsandbytes) (2024.2.0)\n",
      "Downloading bitsandbytes-0.47.0-py3-none-manylinux_2_24_x86_64.whl (61.3 MB)\n",
      "\u001b[2K   \u001b[90m━━━━━━━━━━━━━━━━━━━━━━━━━━━━━━━━━━━━━━━━\u001b[0m \u001b[32m61.3/61.3 MB\u001b[0m \u001b[31m22.3 MB/s\u001b[0m eta \u001b[36m0:00:00\u001b[0m00:01\u001b[0m00:01\u001b[0m\n",
      "\u001b[?25hDownloading nvidia_cublas_cu12-12.4.5.8-py3-none-manylinux2014_x86_64.whl (363.4 MB)\n",
      "\u001b[2K   \u001b[90m━━━━━━━━━━━━━━━━━━━━━━━━━━━━━━━━━━━━━━━━\u001b[0m \u001b[32m363.4/363.4 MB\u001b[0m \u001b[31m4.4 MB/s\u001b[0m eta \u001b[36m0:00:00\u001b[0m:00:01\u001b[0m00:01\u001b[0m\n",
      "\u001b[?25hDownloading nvidia_cuda_cupti_cu12-12.4.127-py3-none-manylinux2014_x86_64.whl (13.8 MB)\n",
      "\u001b[2K   \u001b[90m━━━━━━━━━━━━━━━━━━━━━━━━━━━━━━━━━━━━━━━━\u001b[0m \u001b[32m13.8/13.8 MB\u001b[0m \u001b[31m50.5 MB/s\u001b[0m eta \u001b[36m0:00:00\u001b[0m00:01\u001b[0m00:01\u001b[0m\n",
      "\u001b[?25hDownloading nvidia_cuda_nvrtc_cu12-12.4.127-py3-none-manylinux2014_x86_64.whl (24.6 MB)\n",
      "\u001b[2K   \u001b[90m━━━━━━━━━━━━━━━━━━━━━━━━━━━━━━━━━━━━━━━━\u001b[0m \u001b[32m24.6/24.6 MB\u001b[0m \u001b[31m44.8 MB/s\u001b[0m eta \u001b[36m0:00:00\u001b[0m00:01\u001b[0m00:01\u001b[0m\n",
      "\u001b[?25hDownloading nvidia_cuda_runtime_cu12-12.4.127-py3-none-manylinux2014_x86_64.whl (883 kB)\n",
      "\u001b[2K   \u001b[90m━━━━━━━━━━━━━━━━━━━━━━━━━━━━━━━━━━━━━━━━\u001b[0m \u001b[32m883.7/883.7 kB\u001b[0m \u001b[31m41.0 MB/s\u001b[0m eta \u001b[36m0:00:00\u001b[0m\n",
      "\u001b[?25hDownloading nvidia_cudnn_cu12-9.1.0.70-py3-none-manylinux2014_x86_64.whl (664.8 MB)\n",
      "\u001b[2K   \u001b[90m━━━━━━━━━━━━━━━━━━━━━━━━━━━━━━━━━━━━━━━━\u001b[0m \u001b[32m664.8/664.8 MB\u001b[0m \u001b[31m2.1 MB/s\u001b[0m eta \u001b[36m0:00:00\u001b[0m:00:01\u001b[0m00:02\u001b[0m\n",
      "\u001b[?25hDownloading nvidia_cufft_cu12-11.2.1.3-py3-none-manylinux2014_x86_64.whl (211.5 MB)\n",
      "\u001b[2K   \u001b[90m━━━━━━━━━━━━━━━━━━━━━━━━━━━━━━━━━━━━━━━━\u001b[0m \u001b[32m211.5/211.5 MB\u001b[0m \u001b[31m7.4 MB/s\u001b[0m eta \u001b[36m0:00:00\u001b[0m:00:01\u001b[0m00:01\u001b[0m\n",
      "\u001b[?25hDownloading nvidia_curand_cu12-10.3.5.147-py3-none-manylinux2014_x86_64.whl (56.3 MB)\n",
      "\u001b[2K   \u001b[90m━━━━━━━━━━━━━━━━━━━━━━━━━━━━━━━━━━━━━━━━\u001b[0m \u001b[32m56.3/56.3 MB\u001b[0m \u001b[31m23.5 MB/s\u001b[0m eta \u001b[36m0:00:00\u001b[0m00:01\u001b[0m00:01\u001b[0m\n",
      "\u001b[?25hDownloading nvidia_cusolver_cu12-11.6.1.9-py3-none-manylinux2014_x86_64.whl (127.9 MB)\n",
      "\u001b[2K   \u001b[90m━━━━━━━━━━━━━━━━━━━━━━━━━━━━━━━━━━━━━━━━\u001b[0m \u001b[32m127.9/127.9 MB\u001b[0m \u001b[31m12.2 MB/s\u001b[0m eta \u001b[36m0:00:00\u001b[0m00:01\u001b[0m00:01\u001b[0m\n",
      "\u001b[?25hDownloading nvidia_cusparse_cu12-12.3.1.170-py3-none-manylinux2014_x86_64.whl (207.5 MB)\n",
      "\u001b[2K   \u001b[90m━━━━━━━━━━━━━━━━━━━━━━━━━━━━━━━━━━━━━━━━\u001b[0m \u001b[32m207.5/207.5 MB\u001b[0m \u001b[31m7.4 MB/s\u001b[0m eta \u001b[36m0:00:00\u001b[0m:00:01\u001b[0m00:01\u001b[0m\n",
      "\u001b[?25hDownloading nvidia_nvjitlink_cu12-12.4.127-py3-none-manylinux2014_x86_64.whl (21.1 MB)\n",
      "\u001b[2K   \u001b[90m━━━━━━━━━━━━━━━━━━━━━━━━━━━━━━━━━━━━━━━━\u001b[0m \u001b[32m21.1/21.1 MB\u001b[0m \u001b[31m45.5 MB/s\u001b[0m eta \u001b[36m0:00:00\u001b[0m00:01\u001b[0m00:01\u001b[0m\n",
      "\u001b[?25hInstalling collected packages: nvidia-nvjitlink-cu12, nvidia-curand-cu12, nvidia-cufft-cu12, nvidia-cuda-runtime-cu12, nvidia-cuda-nvrtc-cu12, nvidia-cuda-cupti-cu12, nvidia-cublas-cu12, nvidia-cusparse-cu12, nvidia-cudnn-cu12, nvidia-cusolver-cu12, bitsandbytes\n",
      "  Attempting uninstall: nvidia-nvjitlink-cu12\n",
      "    Found existing installation: nvidia-nvjitlink-cu12 12.5.82\n",
      "    Uninstalling nvidia-nvjitlink-cu12-12.5.82:\n",
      "      Successfully uninstalled nvidia-nvjitlink-cu12-12.5.82\n",
      "  Attempting uninstall: nvidia-curand-cu12\n",
      "    Found existing installation: nvidia-curand-cu12 10.3.6.82\n",
      "    Uninstalling nvidia-curand-cu12-10.3.6.82:\n",
      "      Successfully uninstalled nvidia-curand-cu12-10.3.6.82\n",
      "  Attempting uninstall: nvidia-cufft-cu12\n",
      "    Found existing installation: nvidia-cufft-cu12 11.2.3.61\n",
      "    Uninstalling nvidia-cufft-cu12-11.2.3.61:\n",
      "      Successfully uninstalled nvidia-cufft-cu12-11.2.3.61\n",
      "  Attempting uninstall: nvidia-cuda-runtime-cu12\n",
      "    Found existing installation: nvidia-cuda-runtime-cu12 12.5.82\n",
      "    Uninstalling nvidia-cuda-runtime-cu12-12.5.82:\n",
      "      Successfully uninstalled nvidia-cuda-runtime-cu12-12.5.82\n",
      "  Attempting uninstall: nvidia-cuda-nvrtc-cu12\n",
      "    Found existing installation: nvidia-cuda-nvrtc-cu12 12.5.82\n",
      "    Uninstalling nvidia-cuda-nvrtc-cu12-12.5.82:\n",
      "      Successfully uninstalled nvidia-cuda-nvrtc-cu12-12.5.82\n",
      "  Attempting uninstall: nvidia-cuda-cupti-cu12\n",
      "    Found existing installation: nvidia-cuda-cupti-cu12 12.5.82\n",
      "    Uninstalling nvidia-cuda-cupti-cu12-12.5.82:\n",
      "      Successfully uninstalled nvidia-cuda-cupti-cu12-12.5.82\n",
      "  Attempting uninstall: nvidia-cublas-cu12\n",
      "    Found existing installation: nvidia-cublas-cu12 12.5.3.2\n",
      "    Uninstalling nvidia-cublas-cu12-12.5.3.2:\n",
      "      Successfully uninstalled nvidia-cublas-cu12-12.5.3.2\n",
      "  Attempting uninstall: nvidia-cusparse-cu12\n",
      "    Found existing installation: nvidia-cusparse-cu12 12.5.1.3\n",
      "    Uninstalling nvidia-cusparse-cu12-12.5.1.3:\n",
      "      Successfully uninstalled nvidia-cusparse-cu12-12.5.1.3\n",
      "  Attempting uninstall: nvidia-cudnn-cu12\n",
      "    Found existing installation: nvidia-cudnn-cu12 9.3.0.75\n",
      "    Uninstalling nvidia-cudnn-cu12-9.3.0.75:\n",
      "      Successfully uninstalled nvidia-cudnn-cu12-9.3.0.75\n",
      "  Attempting uninstall: nvidia-cusolver-cu12\n",
      "    Found existing installation: nvidia-cusolver-cu12 11.6.3.83\n",
      "    Uninstalling nvidia-cusolver-cu12-11.6.3.83:\n",
      "      Successfully uninstalled nvidia-cusolver-cu12-11.6.3.83\n",
      "Successfully installed bitsandbytes-0.47.0 nvidia-cublas-cu12-12.4.5.8 nvidia-cuda-cupti-cu12-12.4.127 nvidia-cuda-nvrtc-cu12-12.4.127 nvidia-cuda-runtime-cu12-12.4.127 nvidia-cudnn-cu12-9.1.0.70 nvidia-cufft-cu12-11.2.1.3 nvidia-curand-cu12-10.3.5.147 nvidia-cusolver-cu12-11.6.1.9 nvidia-cusparse-cu12-12.3.1.170 nvidia-nvjitlink-cu12-12.4.127\n"
     ]
    }
   ],
   "source": [
    "# installing all dependencies\n",
    "! pip install sacrebleu evaluate sacremoses\n",
    "! pip install -U bitsandbytes"
   ]
  },
  {
   "cell_type": "code",
   "execution_count": 5,
   "metadata": {
    "execution": {
     "iopub.execute_input": "2025-08-13T06:00:17.521850Z",
     "iopub.status.busy": "2025-08-13T06:00:17.521610Z",
     "iopub.status.idle": "2025-08-13T06:00:42.539195Z",
     "shell.execute_reply": "2025-08-13T06:00:42.538549Z",
     "shell.execute_reply.started": "2025-08-13T06:00:17.521829Z"
    },
    "trusted": true
   },
   "outputs": [
    {
     "name": "stderr",
     "output_type": "stream",
     "text": [
      "2025-08-13 06:00:26.409475: E external/local_xla/xla/stream_executor/cuda/cuda_fft.cc:477] Unable to register cuFFT factory: Attempting to register factory for plugin cuFFT when one has already been registered\n",
      "WARNING: All log messages before absl::InitializeLog() is called are written to STDERR\n",
      "E0000 00:00:1755064826.602691      36 cuda_dnn.cc:8310] Unable to register cuDNN factory: Attempting to register factory for plugin cuDNN when one has already been registered\n",
      "E0000 00:00:1755064826.660934      36 cuda_blas.cc:1418] Unable to register cuBLAS factory: Attempting to register factory for plugin cuBLAS when one has already been registered\n"
     ]
    },
    {
     "data": {
      "text/plain": [
       "'2.6.0+cu124'"
      ]
     },
     "execution_count": 5,
     "metadata": {},
     "output_type": "execute_result"
    }
   ],
   "source": [
    "import torch\n",
    "import pandas as pd\n",
    "import numpy as np\n",
    "import regex\n",
    "import unicodedata\n",
    "import os\n",
    "\n",
    "import evaluate\n",
    "from datasets import Dataset, DatasetDict\n",
    "from sklearn.model_selection import train_test_split\n",
    "\n",
    "from transformers import (\n",
    "    AutoTokenizer,\n",
    "    MarianMTModel,\n",
    "    MarianTokenizer,\n",
    "    Seq2SeqTrainingArguments,\n",
    "    Seq2SeqTrainer,\n",
    "    DataCollatorForSeq2Seq,\n",
    "    BitsAndBytesConfig,\n",
    "    pipeline,\n",
    "    EarlyStoppingCallback\n",
    ")\n",
    "\n",
    "from peft import LoraConfig, get_peft_model, prepare_model_for_kbit_training, PeftModel\n",
    "\n",
    "os.environ[\"WANDB_DISABLED\"]=\"true\"\n",
    "torch.__version__"
   ]
  },
  {
   "cell_type": "code",
   "execution_count": 6,
   "metadata": {
    "execution": {
     "iopub.execute_input": "2025-08-13T06:00:42.540594Z",
     "iopub.status.busy": "2025-08-13T06:00:42.539902Z",
     "iopub.status.idle": "2025-08-13T06:00:42.545527Z",
     "shell.execute_reply": "2025-08-13T06:00:42.544729Z",
     "shell.execute_reply.started": "2025-08-13T06:00:42.540573Z"
    },
    "trusted": true
   },
   "outputs": [
    {
     "data": {
      "text/plain": [
       "device(type='cuda')"
      ]
     },
     "execution_count": 6,
     "metadata": {},
     "output_type": "execute_result"
    }
   ],
   "source": [
    "device = torch.device(\"cuda\" if torch.cuda.is_available() else \"cpu\")\n",
    "device"
   ]
  },
  {
   "cell_type": "code",
   "execution_count": 7,
   "metadata": {
    "execution": {
     "iopub.execute_input": "2025-08-13T06:00:42.547176Z",
     "iopub.status.busy": "2025-08-13T06:00:42.546943Z",
     "iopub.status.idle": "2025-08-13T06:00:44.946614Z",
     "shell.execute_reply": "2025-08-13T06:00:44.945901Z",
     "shell.execute_reply.started": "2025-08-13T06:00:42.547159Z"
    },
    "trusted": true
   },
   "outputs": [
    {
     "name": "stdout",
     "output_type": "stream",
     "text": [
      "<class 'pandas.core.frame.DataFrame'>\n",
      "RangeIndex: 177604 entries, 0 to 177603\n",
      "Data columns (total 2 columns):\n",
      " #   Column            Non-Null Count   Dtype \n",
      "---  ------            --------------   ----- \n",
      " 0   english_sentence  177604 non-null  object\n",
      " 1   hindi_sentence    177604 non-null  object\n",
      "dtypes: object(2)\n",
      "memory usage: 2.7+ MB\n"
     ]
    }
   ],
   "source": [
    "df = pd.read_csv(\"/kaggle/input/english-to-hindi-parallel-dataset/newdata.csv\")\n",
    "df.dropna(ignore_index=True, inplace=True) # droping empty datapoints\n",
    "df.drop(columns=['Unnamed: 0'], inplace=True)\n",
    "df.info()"
   ]
  },
  {
   "cell_type": "code",
   "execution_count": 8,
   "metadata": {
    "execution": {
     "iopub.execute_input": "2025-08-13T06:00:44.947632Z",
     "iopub.status.busy": "2025-08-13T06:00:44.947339Z",
     "iopub.status.idle": "2025-08-13T06:00:49.635069Z",
     "shell.execute_reply": "2025-08-13T06:00:49.634389Z",
     "shell.execute_reply.started": "2025-08-13T06:00:44.947608Z"
    },
    "trusted": true
   },
   "outputs": [
    {
     "name": "stdout",
     "output_type": "stream",
     "text": [
      "<class 'pandas.core.frame.DataFrame'>\n",
      "RangeIndex: 124528 entries, 0 to 124527\n",
      "Data columns (total 4 columns):\n",
      " #   Column            Non-Null Count   Dtype \n",
      "---  ------            --------------   ----- \n",
      " 0   english_sentence  124528 non-null  object\n",
      " 1   hindi_sentence    124528 non-null  object\n",
      " 2   english_words     124528 non-null  int64 \n",
      " 3   hindi_words       124528 non-null  int64 \n",
      "dtypes: int64(2), object(2)\n",
      "memory usage: 3.8+ MB\n"
     ]
    }
   ],
   "source": [
    "def is_hindi_corrupted(text):\n",
    "    # Flags if any non-Devanagari, non-allowed punctuation/space chars are present\n",
    "    if regex.search(r'[^\\u0900-\\u097F\\s,.?!-]', text):\n",
    "        return True\n",
    "    return False\n",
    "\n",
    "# Apply the function to create a mask\n",
    "df['Corrupted'] = df['hindi_sentence'].apply(is_hindi_corrupted)\n",
    "\n",
    "# Filter out corrupted rows, then drop the mask column\n",
    "df = df[~df['Corrupted']].drop(columns=['Corrupted'])\n",
    "\n",
    "# Reset index without keeping old index as a column\n",
    "df.reset_index(drop=True, inplace=True)\n",
    "\n",
    "def clean_text(text, language=\"english\"):\n",
    "    # Normalize unicode characters\n",
    "    text = unicodedata.normalize('NFKC', text)\n",
    "    # Convert to lowercase if English\n",
    "    if language == \"english\":\n",
    "        text = text.lower()\n",
    "    # Remove extra spaces\n",
    "    text = regex.sub(r'\\s+', ' ', text).strip()\n",
    "    return text\n",
    "\n",
    "# Compute word counts on original sentences (move after cleaning if preferred)\n",
    "df['english_words'] = df['english_sentence'].apply(lambda x: len(x.split()))\n",
    "df['hindi_words'] = df['hindi_sentence'].apply(lambda x: len(x.split()))\n",
    "\n",
    "# Apply cleaning and create new columns\n",
    "df['english_sentence'] = df['english_sentence'].apply(lambda x: clean_text(x))\n",
    "df['hindi_sentence'] = df['hindi_sentence'].apply(lambda x: clean_text(x, language=\"hindi\"))\n",
    "\n",
    "# Print DataFrame info\n",
    "df.info()"
   ]
  },
  {
   "cell_type": "code",
   "execution_count": 31,
   "metadata": {
    "execution": {
     "iopub.execute_input": "2025-08-13T04:34:55.035127Z",
     "iopub.status.busy": "2025-08-13T04:34:55.034793Z",
     "iopub.status.idle": "2025-08-13T04:34:55.048362Z",
     "shell.execute_reply": "2025-08-13T04:34:55.047651Z",
     "shell.execute_reply.started": "2025-08-13T04:34:55.035107Z"
    },
    "trusted": true
   },
   "outputs": [
    {
     "data": {
      "text/html": [
       "<div>\n",
       "<style scoped>\n",
       "    .dataframe tbody tr th:only-of-type {\n",
       "        vertical-align: middle;\n",
       "    }\n",
       "\n",
       "    .dataframe tbody tr th {\n",
       "        vertical-align: top;\n",
       "    }\n",
       "\n",
       "    .dataframe thead th {\n",
       "        text-align: right;\n",
       "    }\n",
       "</style>\n",
       "<table border=\"1\" class=\"dataframe\">\n",
       "  <thead>\n",
       "    <tr style=\"text-align: right;\">\n",
       "      <th></th>\n",
       "      <th>english_sentence</th>\n",
       "      <th>hindi_sentence</th>\n",
       "      <th>english_words</th>\n",
       "      <th>hindi_words</th>\n",
       "    </tr>\n",
       "  </thead>\n",
       "  <tbody>\n",
       "    <tr>\n",
       "      <th>6266</th>\n",
       "      <td>dhrowpathi was the betterhalf of five pandavas...</td>\n",
       "      <td>द्रौपदी पांचों पांड्वों की अर्धांगिनी थी और उस...</td>\n",
       "      <td>18</td>\n",
       "      <td>16</td>\n",
       "    </tr>\n",
       "    <tr>\n",
       "      <th>106639</th>\n",
       "      <td>take a deep breath .</td>\n",
       "      <td>गहरी साँस लें ।</td>\n",
       "      <td>5</td>\n",
       "      <td>4</td>\n",
       "    </tr>\n",
       "    <tr>\n",
       "      <th>124374</th>\n",
       "      <td>carry on bags are good , take them .</td>\n",
       "      <td>कैरी ऑन बैग्स सही रहते हैं , लेकर चलें ।</td>\n",
       "      <td>9</td>\n",
       "      <td>10</td>\n",
       "    </tr>\n",
       "    <tr>\n",
       "      <th>88513</th>\n",
       "      <td>that is why firstly the rights of these people...</td>\n",
       "      <td>इस कारण सबसे पहले उनके राज करने के अधिकार छीन ...</td>\n",
       "      <td>21</td>\n",
       "      <td>25</td>\n",
       "    </tr>\n",
       "    <tr>\n",
       "      <th>64511</th>\n",
       "      <td>over cell phones,</td>\n",
       "      <td>सेल-फ़ोन के माध्यम से,</td>\n",
       "      <td>3</td>\n",
       "      <td>4</td>\n",
       "    </tr>\n",
       "  </tbody>\n",
       "</table>\n",
       "</div>"
      ],
      "text/plain": [
       "                                         english_sentence  \\\n",
       "6266    dhrowpathi was the betterhalf of five pandavas...   \n",
       "106639                               take a deep breath .   \n",
       "124374               carry on bags are good , take them .   \n",
       "88513   that is why firstly the rights of these people...   \n",
       "64511                                   over cell phones,   \n",
       "\n",
       "                                           hindi_sentence  english_words  \\\n",
       "6266    द्रौपदी पांचों पांड्वों की अर्धांगिनी थी और उस...             18   \n",
       "106639                                    गहरी साँस लें ।              5   \n",
       "124374           कैरी ऑन बैग्स सही रहते हैं , लेकर चलें ।              9   \n",
       "88513   इस कारण सबसे पहले उनके राज करने के अधिकार छीन ...             21   \n",
       "64511                              सेल-फ़ोन के माध्यम से,              3   \n",
       "\n",
       "        hindi_words  \n",
       "6266             16  \n",
       "106639            4  \n",
       "124374           10  \n",
       "88513            25  \n",
       "64511             4  "
      ]
     },
     "execution_count": 31,
     "metadata": {},
     "output_type": "execute_result"
    }
   ],
   "source": [
    "df.sample(5)"
   ]
  },
  {
   "cell_type": "code",
   "execution_count": 8,
   "metadata": {
    "execution": {
     "iopub.execute_input": "2025-08-13T04:17:54.622198Z",
     "iopub.status.busy": "2025-08-13T04:17:54.621639Z",
     "iopub.status.idle": "2025-08-13T04:17:54.628065Z",
     "shell.execute_reply": "2025-08-13T04:17:54.627374Z",
     "shell.execute_reply.started": "2025-08-13T04:17:54.622179Z"
    },
    "trusted": true
   },
   "outputs": [
    {
     "data": {
      "text/plain": [
       "english_sentence    somewhere between extreme indifference and ext...\n",
       "hindi_sentence      सचाई इसी अति उदासीनता और अतिशय प्रतिक्रिया के ...\n",
       "english_words                                                      19\n",
       "hindi_words                                                        27\n",
       "Name: 111, dtype: object"
      ]
     },
     "execution_count": 8,
     "metadata": {},
     "output_type": "execute_result"
    }
   ],
   "source": [
    "df.iloc[111, :]"
   ]
  },
  {
   "cell_type": "code",
   "execution_count": 9,
   "metadata": {
    "execution": {
     "iopub.execute_input": "2025-08-13T06:00:49.636131Z",
     "iopub.status.busy": "2025-08-13T06:00:49.635841Z",
     "iopub.status.idle": "2025-08-13T06:00:49.681610Z",
     "shell.execute_reply": "2025-08-13T06:00:49.680737Z",
     "shell.execute_reply.started": "2025-08-13T06:00:49.636102Z"
    },
    "trusted": true
   },
   "outputs": [
    {
     "name": "stdout",
     "output_type": "stream",
     "text": [
      "60 60\n",
      "<class 'pandas.core.frame.DataFrame'>\n",
      "Index: 80000 entries, 0 to 80731\n",
      "Data columns (total 4 columns):\n",
      " #   Column            Non-Null Count  Dtype \n",
      "---  ------            --------------  ----- \n",
      " 0   english_sentence  80000 non-null  object\n",
      " 1   hindi_sentence    80000 non-null  object\n",
      " 2   english_words     80000 non-null  int64 \n",
      " 3   hindi_words       80000 non-null  int64 \n",
      "dtypes: int64(2), object(2)\n",
      "memory usage: 3.1+ MB\n"
     ]
    }
   ],
   "source": [
    "max_len_english_sentence = 60 \n",
    "max_len_hindi_sentence = 60 \n",
    "print(max_len_english_sentence, max_len_hindi_sentence)\n",
    "\n",
    "df = df[df['hindi_words']<=max_len_hindi_sentence]\n",
    "df = df[df['english_words']<=max_len_english_sentence]\n",
    "df = df.iloc[:80000, :]\n",
    "df.info()"
   ]
  },
  {
   "cell_type": "code",
   "execution_count": 10,
   "metadata": {
    "execution": {
     "iopub.execute_input": "2025-08-13T06:00:49.682886Z",
     "iopub.status.busy": "2025-08-13T06:00:49.682563Z",
     "iopub.status.idle": "2025-08-13T06:00:51.295965Z",
     "shell.execute_reply": "2025-08-13T06:00:51.295268Z",
     "shell.execute_reply.started": "2025-08-13T06:00:49.682866Z"
    },
    "trusted": true
   },
   "outputs": [
    {
     "name": "stderr",
     "output_type": "stream",
     "text": [
      "/tmp/ipykernel_36/1715726197.py:3: UserWarning: \n",
      "\n",
      "`distplot` is a deprecated function and will be removed in seaborn v0.14.0.\n",
      "\n",
      "Please adapt your code to use either `displot` (a figure-level function with\n",
      "similar flexibility) or `histplot` (an axes-level function for histograms).\n",
      "\n",
      "For a guide to updating your code to use the new functions, please see\n",
      "https://gist.github.com/mwaskom/de44147ed2974457ad6372750bbe5751\n",
      "\n",
      "  sns.distplot(df['english_words'])\n",
      "/usr/local/lib/python3.11/dist-packages/seaborn/_oldcore.py:1119: FutureWarning: use_inf_as_na option is deprecated and will be removed in a future version. Convert inf values to NaN before operating instead.\n",
      "  with pd.option_context('mode.use_inf_as_na', True):\n"
     ]
    },
    {
     "data": {
      "image/png": "[encoded data removed]",
      "text/plain": [
       "<Figure size 640x480 with 1 Axes>"
      ]
     },
     "metadata": {},
     "output_type": "display_data"
    },
    {
     "name": "stderr",
     "output_type": "stream",
     "text": [
      "/tmp/ipykernel_36/1715726197.py:5: UserWarning: \n",
      "\n",
      "`distplot` is a deprecated function and will be removed in seaborn v0.14.0.\n",
      "\n",
      "Please adapt your code to use either `displot` (a figure-level function with\n",
      "similar flexibility) or `histplot` (an axes-level function for histograms).\n",
      "\n",
      "For a guide to updating your code to use the new functions, please see\n",
      "https://gist.github.com/mwaskom/de44147ed2974457ad6372750bbe5751\n",
      "\n",
      "  sns.distplot(df['hindi_words'])\n",
      "/usr/local/lib/python3.11/dist-packages/seaborn/_oldcore.py:1119: FutureWarning: use_inf_as_na option is deprecated and will be removed in a future version. Convert inf values to NaN before operating instead.\n",
      "  with pd.option_context('mode.use_inf_as_na', True):\n"
     ]
    },
    {
     "data": {
      "image/png": "[encoded data removed]",
      "text/plain": [
       "<Figure size 640x480 with 1 Axes>"
      ]
     },
     "metadata": {},
     "output_type": "display_data"
    }
   ],
   "source": [
    "import matplotlib.pyplot as plt\n",
    "import seaborn as sns\n",
    "sns.distplot(df['english_words'])\n",
    "plt.show()\n",
    "sns.distplot(df['hindi_words'])\n",
    "plt.show()"
   ]
  },
  {
   "cell_type": "code",
   "execution_count": null,
   "metadata": {
    "execution": {
     "iopub.status.busy": "2025-08-13T05:58:08.541994Z",
     "iopub.status.idle": "2025-08-13T05:58:08.542318Z",
     "shell.execute_reply": "2025-08-13T05:58:08.542151Z",
     "shell.execute_reply.started": "2025-08-13T05:58:08.542137Z"
    },
    "trusted": true
   },
   "outputs": [],
   "source": [
    "df.drop(labels=[\"english_words\", \"hindi_words\"], axis=1, inplace=True)\n",
    "\n",
    "# Split dataset into train (85%), validation (7.5%), and test (7.5%)\n",
    "train_df, temp_df = train_test_split(df, test_size=0.15, random_state=42, shuffle=True)\n",
    "val_df, test_df = train_test_split(temp_df, test_size=0.5, random_state=42, shuffle=True)\n",
    "print(f\"Train size: {len(train_df)}, Validation size: {len(val_df)}, Test size: {len(test_df)}\")\n",
    "\n",
    "# Save splits for reproducibility\n",
    "train_df.to_csv(\"train.csv\", index=False)\n",
    "val_df.to_csv(\"val.csv\", index=False)\n",
    "test_df.to_csv(\"test.csv\", index=False)"
   ]
  },
  {
   "cell_type": "code",
   "execution_count": 11,
   "metadata": {
    "execution": {
     "iopub.execute_input": "2025-08-13T06:00:51.297536Z",
     "iopub.status.busy": "2025-08-13T06:00:51.296782Z",
     "iopub.status.idle": "2025-08-13T06:00:51.911331Z",
     "shell.execute_reply": "2025-08-13T06:00:51.910672Z",
     "shell.execute_reply.started": "2025-08-13T06:00:51.297503Z"
    },
    "trusted": true
   },
   "outputs": [
    {
     "name": "stdout",
     "output_type": "stream",
     "text": [
      "Raw dataset splits: DatasetDict({\n",
      "    train: Dataset({\n",
      "        features: ['english_sentence', 'hindi_sentence'],\n",
      "        num_rows: 68000\n",
      "    })\n",
      "    validation: Dataset({\n",
      "        features: ['english_sentence', 'hindi_sentence'],\n",
      "        num_rows: 6000\n",
      "    })\n",
      "    test: Dataset({\n",
      "        features: ['english_sentence', 'hindi_sentence'],\n",
      "        num_rows: 6000\n",
      "    })\n",
      "})\n"
     ]
    }
   ],
   "source": [
    "# Convert to Hugging Face Dataset, excluding pandas index\n",
    "# train_dataset = Dataset.from_pandas(train_df, preserve_index=False)\n",
    "# val_dataset = Dataset.from_pandas(val_df, preserve_index=False)\n",
    "# test_dataset = Dataset.from_pandas(test_df, preserve_index=False)\n",
    "\n",
    "train_dataset = Dataset.from_pandas(pd.read_csv(\"/kaggle/working/train.csv\"), preserve_index=False)\n",
    "val_dataset = Dataset.from_pandas(pd.read_csv(\"/kaggle/working/val.csv\"), preserve_index=False)\n",
    "test_dataset = Dataset.from_pandas(pd.read_csv(\"/kaggle/working/test.csv\"), preserve_index=False)\n",
    "\n",
    "datasets = DatasetDict({\n",
    "    \"train\": train_dataset,\n",
    "    \"validation\": val_dataset,\n",
    "    \"test\": test_dataset\n",
    "})\n",
    "print(\"Raw dataset splits:\", datasets)"
   ]
  },
  {
   "cell_type": "code",
   "execution_count": 12,
   "metadata": {
    "execution": {
     "iopub.execute_input": "2025-08-13T06:00:51.912603Z",
     "iopub.status.busy": "2025-08-13T06:00:51.912332Z",
     "iopub.status.idle": "2025-08-13T06:00:58.183839Z",
     "shell.execute_reply": "2025-08-13T06:00:58.183016Z",
     "shell.execute_reply.started": "2025-08-13T06:00:51.912575Z"
    },
    "trusted": true
   },
   "outputs": [
    {
     "data": {
      "application/vnd.jupyter.widget-view+json": {
       "model_id": "0070642b55474cde8736d15804af5a8e",
       "version_major": 2,
       "version_minor": 0
      },
      "text/plain": [
       "tokenizer_config.json:   0%|          | 0.00/44.0 [00:00<?, ?B/s]"
      ]
     },
     "metadata": {},
     "output_type": "display_data"
    },
    {
     "data": {
      "application/vnd.jupyter.widget-view+json": {
       "model_id": "9b2a7b0e04b24a7981d17596d23193c6",
       "version_major": 2,
       "version_minor": 0
      },
      "text/plain": [
       "source.spm:   0%|          | 0.00/812k [00:00<?, ?B/s]"
      ]
     },
     "metadata": {},
     "output_type": "display_data"
    },
    {
     "data": {
      "application/vnd.jupyter.widget-view+json": {
       "model_id": "b38c9018b7ce4688b7106bc57e8f1b3a",
       "version_major": 2,
       "version_minor": 0
      },
      "text/plain": [
       "target.spm:   0%|          | 0.00/1.07M [00:00<?, ?B/s]"
      ]
     },
     "metadata": {},
     "output_type": "display_data"
    },
    {
     "data": {
      "application/vnd.jupyter.widget-view+json": {
       "model_id": "153612cdd608429aaed899a210c3b493",
       "version_major": 2,
       "version_minor": 0
      },
      "text/plain": [
       "vocab.json: 0.00B [00:00, ?B/s]"
      ]
     },
     "metadata": {},
     "output_type": "display_data"
    },
    {
     "data": {
      "application/vnd.jupyter.widget-view+json": {
       "model_id": "8c86a127211b40ef8a40dcc3cdadeec6",
       "version_major": 2,
       "version_minor": 0
      },
      "text/plain": [
       "config.json: 0.00B [00:00, ?B/s]"
      ]
     },
     "metadata": {},
     "output_type": "display_data"
    },
    {
     "name": "stdout",
     "output_type": "stream",
     "text": [
      "Tokenizer loaded successfully.\n"
     ]
    }
   ],
   "source": [
    "# Define the model name to load the correct tokenizer\n",
    "model_name = \"Helsinki-NLP/opus-mt-en-hi\"\n",
    "\n",
    "# Load the tokenizer from the pre-trained model\n",
    "try:\n",
    "    tokenizer = MarianTokenizer.from_pretrained(model_name)\n",
    "    print(\"Tokenizer loaded successfully.\")\n",
    "except Exception as e:\n",
    "    print(f\"Error loading tokenizer: {e}\")\n",
    "    # Exit or handle the error appropriately if the tokenizer can't be loaded\n",
    "    exit()"
   ]
  },
  {
   "cell_type": "code",
   "execution_count": 13,
   "metadata": {
    "execution": {
     "iopub.execute_input": "2025-08-13T06:00:58.186408Z",
     "iopub.status.busy": "2025-08-13T06:00:58.186111Z",
     "iopub.status.idle": "2025-08-13T06:01:14.460723Z",
     "shell.execute_reply": "2025-08-13T06:01:14.459936Z",
     "shell.execute_reply.started": "2025-08-13T06:00:58.186389Z"
    },
    "trusted": true
   },
   "outputs": [
    {
     "data": {
      "application/vnd.jupyter.widget-view+json": {
       "model_id": "56a932c9a24341e58880b126a36f10ed",
       "version_major": 2,
       "version_minor": 0
      },
      "text/plain": [
       "Map (num_proc=4):   0%|          | 0/68000 [00:00<?, ? examples/s]"
      ]
     },
     "metadata": {},
     "output_type": "display_data"
    },
    {
     "data": {
      "application/vnd.jupyter.widget-view+json": {
       "model_id": "db7faae299d940f2bd090eac2ca097c2",
       "version_major": 2,
       "version_minor": 0
      },
      "text/plain": [
       "Map (num_proc=4):   0%|          | 0/6000 [00:00<?, ? examples/s]"
      ]
     },
     "metadata": {},
     "output_type": "display_data"
    },
    {
     "data": {
      "application/vnd.jupyter.widget-view+json": {
       "model_id": "b2f58d963fd6444da81ff48a1a89377b",
       "version_major": 2,
       "version_minor": 0
      },
      "text/plain": [
       "Map (num_proc=4):   0%|          | 0/6000 [00:00<?, ? examples/s]"
      ]
     },
     "metadata": {},
     "output_type": "display_data"
    },
    {
     "name": "stdout",
     "output_type": "stream",
     "text": [
      "\n",
      "Tokenized dataset splits: DatasetDict({\n",
      "    train: Dataset({\n",
      "        features: ['input_ids', 'attention_mask', 'labels'],\n",
      "        num_rows: 68000\n",
      "    })\n",
      "    validation: Dataset({\n",
      "        features: ['input_ids', 'attention_mask', 'labels'],\n",
      "        num_rows: 6000\n",
      "    })\n",
      "    test: Dataset({\n",
      "        features: ['input_ids', 'attention_mask', 'labels'],\n",
      "        num_rows: 6000\n",
      "    })\n",
      "})\n",
      "\n",
      "Example of a tokenized sample (train): {'input_ids': [19, 8566, 34, 39873, 10, 49695, 8, 13718, 23, 807, 17348, 44, 3, 0, 61949, 61949, 61949, 61949, 61949, 61949, 61949, 61949, 61949, 61949, 61949, 61949, 61949, 61949, 61949, 61949, 61949, 61949, 61949, 61949, 61949, 61949, 61949, 61949, 61949, 61949, 61949, 61949, 61949, 61949, 61949, 61949, 61949, 61949, 61949, 61949, 61949, 61949, 61949, 61949, 61949, 61949, 61949, 61949, 61949, 61949, 61949, 61949, 61949, 61949], 'attention_mask': [1, 1, 1, 1, 1, 1, 1, 1, 1, 1, 1, 1, 1, 1, 0, 0, 0, 0, 0, 0, 0, 0, 0, 0, 0, 0, 0, 0, 0, 0, 0, 0, 0, 0, 0, 0, 0, 0, 0, 0, 0, 0, 0, 0, 0, 0, 0, 0, 0, 0, 0, 0, 0, 0, 0, 0, 0, 0, 0, 0, 0, 0, 0, 0], 'labels': [25550, 6, 11355, 1231, 9057, 682, 15, 4408, 33105, 314, 6, 39, 1374, 21127, 314, 186, 44, 3, 0, 61949, 61949, 61949, 61949, 61949, 61949, 61949, 61949, 61949, 61949, 61949, 61949, 61949, 61949, 61949, 61949, 61949, 61949, 61949, 61949, 61949, 61949, 61949, 61949, 61949, 61949, 61949, 61949, 61949, 61949, 61949, 61949, 61949, 61949, 61949, 61949, 61949, 61949, 61949, 61949, 61949, 61949, 61949, 61949, 61949]}\n"
     ]
    },
    {
     "data": {
      "application/vnd.jupyter.widget-view+json": {
       "model_id": "e45331b706d642889d26644fc41406c3",
       "version_major": 2,
       "version_minor": 0
      },
      "text/plain": [
       "Creating json from Arrow format:   0%|          | 0/68 [00:00<?, ?ba/s]"
      ]
     },
     "metadata": {},
     "output_type": "display_data"
    },
    {
     "data": {
      "application/vnd.jupyter.widget-view+json": {
       "model_id": "90ee8c3442e244f0a65b3a03ae40227d",
       "version_major": 2,
       "version_minor": 0
      },
      "text/plain": [
       "Creating json from Arrow format:   0%|          | 0/6 [00:00<?, ?ba/s]"
      ]
     },
     "metadata": {},
     "output_type": "display_data"
    },
    {
     "data": {
      "application/vnd.jupyter.widget-view+json": {
       "model_id": "e2c02a27000b4d39aa4e149f8f572b73",
       "version_major": 2,
       "version_minor": 0
      },
      "text/plain": [
       "Creating json from Arrow format:   0%|          | 0/6 [00:00<?, ?ba/s]"
      ]
     },
     "metadata": {},
     "output_type": "display_data"
    },
    {
     "data": {
      "text/plain": [
       "5165812"
      ]
     },
     "execution_count": 13,
     "metadata": {},
     "output_type": "execute_result"
    }
   ],
   "source": [
    "# Define maximum sequence lengths for your inputs and outputs\n",
    "max_input_length = 64\n",
    "max_target_length = 64\n",
    "\n",
    "# This function contains the logic to tokenize a batch of examples\n",
    "def preprocess_function(examples):\n",
    "    \"\"\"\n",
    "    Tokenizes the source (English) and target (Hindi) sentences.\n",
    "    \"\"\"\n",
    "    # Get the source and target sentences from the batch\n",
    "    inputs = examples[\"english_sentence\"]\n",
    "    targets = examples[\"hindi_sentence\"]\n",
    "\n",
    "    # Tokenize the source sentences. The tokenizer handles padding and truncation.\n",
    "    model_inputs = tokenizer(inputs, max_length=max_input_length, truncation=True, padding=\"max_length\")\n",
    "\n",
    "    # \"text_target\" : to tell the tokenizer the given data is actual target \n",
    "    # It ensures the target language is tokenized correctly for the decoder.\n",
    "    labels = tokenizer(text_target=targets, max_length=max_target_length, truncation=True, padding=\"max_length\")\n",
    "\n",
    "    # The tokenized target sentences are assigned as 'labels' for the model to learn from.\n",
    "    model_inputs[\"labels\"] = labels[\"input_ids\"]\n",
    "    return model_inputs\n",
    "\n",
    "# Apply the preprocessing function to the entire dataset using .map()\n",
    "# `batched=True` processes multiple rows at once for speed.\n",
    "# `remove_columns` deletes the original text columns as they are no longer needed.\n",
    "# Tokenize each split separately\n",
    "tokenized_datasets = DatasetDict()\n",
    "for split in [\"train\", \"validation\", \"test\"]:\n",
    "    tokenized_datasets[split] = datasets[split].map(\n",
    "        preprocess_function,\n",
    "        batched=True,\n",
    "        remove_columns=datasets[split].column_names,\n",
    "        num_proc=4  # Parallelize for efficiency\n",
    "    )\n",
    "\n",
    "print(\"\\nTokenized dataset splits:\", tokenized_datasets)\n",
    "print(\"\\nExample of a tokenized sample (train):\", tokenized_datasets[\"train\"][0])\n",
    "\n",
    "# Save tokenized splits to disk\n",
    "tokenized_datasets[\"train\"].to_json(\"train_tokenized.json\")\n",
    "tokenized_datasets[\"validation\"].to_json(\"val_tokenized.json\")\n",
    "tokenized_datasets[\"test\"].to_json(\"test_tokenized.json\")"
   ]
  },
  {
   "cell_type": "code",
   "execution_count": 14,
   "metadata": {
    "execution": {
     "iopub.execute_input": "2025-08-13T06:01:14.462054Z",
     "iopub.status.busy": "2025-08-13T06:01:14.461698Z",
     "iopub.status.idle": "2025-08-13T06:01:20.713962Z",
     "shell.execute_reply": "2025-08-13T06:01:20.712928Z",
     "shell.execute_reply.started": "2025-08-13T06:01:14.462027Z"
    },
    "trusted": true
   },
   "outputs": [
    {
     "data": {
      "application/vnd.jupyter.widget-view+json": {
       "model_id": "f782b2aadfb746f59eada08fcaa136eb",
       "version_major": 2,
       "version_minor": 0
      },
      "text/plain": [
       "pytorch_model.bin:   0%|          | 0.00/306M [00:00<?, ?B/s]"
      ]
     },
     "metadata": {},
     "output_type": "display_data"
    },
    {
     "data": {
      "application/vnd.jupyter.widget-view+json": {
       "model_id": "8b01c88462cc4f35996747685d9f575c",
       "version_major": 2,
       "version_minor": 0
      },
      "text/plain": [
       "model.safetensors:   0%|          | 0.00/306M [00:00<?, ?B/s]"
      ]
     },
     "metadata": {},
     "output_type": "display_data"
    },
    {
     "data": {
      "application/vnd.jupyter.widget-view+json": {
       "model_id": "4aba11b4c68a45f98e4b51d3c8f4c4ca",
       "version_major": 2,
       "version_minor": 0
      },
      "text/plain": [
       "generation_config.json:   0%|          | 0.00/293 [00:00<?, ?B/s]"
      ]
     },
     "metadata": {},
     "output_type": "display_data"
    },
    {
     "name": "stdout",
     "output_type": "stream",
     "text": [
      "Model loaded successfully with 4-bit quantization.\n"
     ]
    }
   ],
   "source": [
    "# Load model with 4-bit quantization\n",
    "quantization_config = BitsAndBytesConfig(\n",
    "    load_in_4bit=True, bnb_4bit_quant_type=\"nf4\",\n",
    "    bnb_4bit_compute_dtype=torch.float16,\n",
    "    bnb_4bit_use_double_quant=True,\n",
    ")\n",
    "try:\n",
    "    model = MarianMTModel.from_pretrained(model_name, quantization_config=quantization_config, device_map=\"auto\")\n",
    "    print(\"Model loaded successfully with 4-bit quantization.\")\n",
    "except Exception as e:\n",
    "    print(f\"Error loading model: {e}\")\n",
    "    exit()"
   ]
  },
  {
   "cell_type": "code",
   "execution_count": 38,
   "metadata": {
    "execution": {
     "iopub.execute_input": "2025-08-13T04:35:50.182763Z",
     "iopub.status.busy": "2025-08-13T04:35:50.182512Z",
     "iopub.status.idle": "2025-08-13T04:35:50.189091Z",
     "shell.execute_reply": "2025-08-13T04:35:50.188380Z",
     "shell.execute_reply.started": "2025-08-13T04:35:50.182745Z"
    },
    "trusted": true
   },
   "outputs": [
    {
     "data": {
      "text/plain": [
       "MarianMTModel(\n",
       "  (model): MarianModel(\n",
       "    (shared): Embedding(61950, 512, padding_idx=61949)\n",
       "    (encoder): MarianEncoder(\n",
       "      (embed_tokens): Embedding(61950, 512, padding_idx=61949)\n",
       "      (embed_positions): MarianSinusoidalPositionalEmbedding(512, 512)\n",
       "      (layers): ModuleList(\n",
       "        (0-5): 6 x MarianEncoderLayer(\n",
       "          (self_attn): MarianAttention(\n",
       "            (k_proj): Linear4bit(in_features=512, out_features=512, bias=True)\n",
       "            (v_proj): Linear4bit(in_features=512, out_features=512, bias=True)\n",
       "            (q_proj): Linear4bit(in_features=512, out_features=512, bias=True)\n",
       "            (out_proj): Linear4bit(in_features=512, out_features=512, bias=True)\n",
       "          )\n",
       "          (self_attn_layer_norm): LayerNorm((512,), eps=1e-05, elementwise_affine=True)\n",
       "          (activation_fn): SiLU()\n",
       "          (fc1): Linear4bit(in_features=512, out_features=2048, bias=True)\n",
       "          (fc2): Linear4bit(in_features=2048, out_features=512, bias=True)\n",
       "          (final_layer_norm): LayerNorm((512,), eps=1e-05, elementwise_affine=True)\n",
       "        )\n",
       "      )\n",
       "    )\n",
       "    (decoder): MarianDecoder(\n",
       "      (embed_tokens): Embedding(61950, 512, padding_idx=61949)\n",
       "      (embed_positions): MarianSinusoidalPositionalEmbedding(512, 512)\n",
       "      (layers): ModuleList(\n",
       "        (0-5): 6 x MarianDecoderLayer(\n",
       "          (self_attn): MarianAttention(\n",
       "            (k_proj): Linear4bit(in_features=512, out_features=512, bias=True)\n",
       "            (v_proj): Linear4bit(in_features=512, out_features=512, bias=True)\n",
       "            (q_proj): Linear4bit(in_features=512, out_features=512, bias=True)\n",
       "            (out_proj): Linear4bit(in_features=512, out_features=512, bias=True)\n",
       "          )\n",
       "          (activation_fn): SiLU()\n",
       "          (self_attn_layer_norm): LayerNorm((512,), eps=1e-05, elementwise_affine=True)\n",
       "          (encoder_attn): MarianAttention(\n",
       "            (k_proj): Linear4bit(in_features=512, out_features=512, bias=True)\n",
       "            (v_proj): Linear4bit(in_features=512, out_features=512, bias=True)\n",
       "            (q_proj): Linear4bit(in_features=512, out_features=512, bias=True)\n",
       "            (out_proj): Linear4bit(in_features=512, out_features=512, bias=True)\n",
       "          )\n",
       "          (encoder_attn_layer_norm): LayerNorm((512,), eps=1e-05, elementwise_affine=True)\n",
       "          (fc1): Linear4bit(in_features=512, out_features=2048, bias=True)\n",
       "          (fc2): Linear4bit(in_features=2048, out_features=512, bias=True)\n",
       "          (final_layer_norm): LayerNorm((512,), eps=1e-05, elementwise_affine=True)\n",
       "        )\n",
       "      )\n",
       "    )\n",
       "  )\n",
       "  (lm_head): Linear(in_features=512, out_features=61950, bias=False)\n",
       ")"
      ]
     },
     "execution_count": 38,
     "metadata": {},
     "output_type": "execute_result"
    }
   ],
   "source": [
    "model"
   ]
  },
  {
   "cell_type": "code",
   "execution_count": 15,
   "metadata": {
    "execution": {
     "iopub.execute_input": "2025-08-13T06:01:20.715594Z",
     "iopub.status.busy": "2025-08-13T06:01:20.715083Z",
     "iopub.status.idle": "2025-08-13T06:01:20.873467Z",
     "shell.execute_reply": "2025-08-13T06:01:20.872526Z",
     "shell.execute_reply.started": "2025-08-13T06:01:20.715518Z"
    },
    "trusted": true
   },
   "outputs": [
    {
     "name": "stdout",
     "output_type": "stream",
     "text": [
      "trainable params: 589,824 || all params: 76,971,008 || trainable%: 0.7663\n"
     ]
    }
   ],
   "source": [
    "# Configure QLoRA\n",
    "model = prepare_model_for_kbit_training(model)\n",
    "lora_config = LoraConfig(\n",
    "    r=8,  # Rank of low-rank matrices\n",
    "    lora_alpha=4,  # Scaling factor for LoRA\n",
    "    target_modules=[\"q_proj\", \"k_proj\", \"v_proj\", \"out_proj\"],  # Include output projection\n",
    "    lora_dropout=0.05,\n",
    "    bias=\"none\",\n",
    "    task_type=\"SEQ_2_SEQ_LM\"\n",
    ")\n",
    "model = get_peft_model(model, lora_config)\n",
    "model.print_trainable_parameters()"
   ]
  },
  {
   "cell_type": "code",
   "execution_count": 16,
   "metadata": {
    "execution": {
     "iopub.execute_input": "2025-08-13T06:01:20.875031Z",
     "iopub.status.busy": "2025-08-13T06:01:20.874782Z",
     "iopub.status.idle": "2025-08-13T06:01:20.913088Z",
     "shell.execute_reply": "2025-08-13T06:01:20.912198Z",
     "shell.execute_reply.started": "2025-08-13T06:01:20.875014Z"
    },
    "trusted": true
   },
   "outputs": [
    {
     "name": "stderr",
     "output_type": "stream",
     "text": [
      "Using the `WANDB_DISABLED` environment variable is deprecated and will be removed in v5. Use the --report_to flag to control the integrations used for logging result (for instance --report_to none).\n"
     ]
    }
   ],
   "source": [
    "# --- Set Up Training Arguments ---\n",
    "# These arguments define the hyperparameters for the training process.\n",
    "training_args = Seq2SeqTrainingArguments(\n",
    "    output_dir=\"/kaggle/working/opus-mt-en-hi-finetuned-4bit-qlora\",  # Directory to save checkpoints and final model\n",
    "    per_device_train_batch_size=32,  # Reduced to avoid OOM with longer sequences\n",
    "    per_device_eval_batch_size=32,   # Reduced for consistency\n",
    "    gradient_accumulation_steps=4,   # Effective batch size = 16 * 4 = 64\n",
    "    learning_rate=1e-5,              # Slightly higher for LoRA fine-tuning\n",
    "    weight_decay=0.01,\n",
    "    num_train_epochs=6,             # Allow more epochs, rely on early stopping\n",
    "    logging_steps=100,                # Log every 50 steps\n",
    "    eval_strategy=\"steps\",           # Evaluate every eval_steps for finer monitoring\n",
    "    eval_steps=300,                  # Evaluate every 500 steps\n",
    "    save_strategy=\"steps\",           # Save every save_steps\n",
    "    save_steps=300,                  # Align with eval_steps\n",
    "    save_total_limit=2,              # Keep last 2 checkpoints\n",
    "    predict_with_generate=True,      # Required for BLEU\n",
    "    fp16=True,                       # 16-bit precision for speed\n",
    "    load_best_model_at_end=True,     # Load best model by BLEU\n",
    "    metric_for_best_model=\"bleu\",\n",
    "    push_to_hub=False,               # No Hub push\n",
    "    gradient_checkpointing=True,     # Memory efficiency\n",
    "    optim=\"paged_adamw_8bit\",       # 8-bit optimizer\n",
    "    dataloader_num_workers=4,       # Faster data loading\n",
    "    lr_scheduler_type=\"cosine\",     # Cosine scheduler for better convergence\n",
    "    warmup_ratio=0.1,               # Warmup 10% of steps\n",
    ")"
   ]
  },
  {
   "cell_type": "code",
   "execution_count": 17,
   "metadata": {
    "execution": {
     "iopub.execute_input": "2025-08-13T06:01:20.916581Z",
     "iopub.status.busy": "2025-08-13T06:01:20.916079Z",
     "iopub.status.idle": "2025-08-13T06:01:20.923725Z",
     "shell.execute_reply": "2025-08-13T06:01:20.920255Z",
     "shell.execute_reply.started": "2025-08-13T06:01:20.916560Z"
    },
    "trusted": true
   },
   "outputs": [],
   "source": [
    "# before initializing the trainer:\n",
    "early_stopping = EarlyStoppingCallback(\n",
    "    early_stopping_patience=3  # Stop if the score doesn't improve for 3 steps\n",
    ")"
   ]
  },
  {
   "cell_type": "code",
   "execution_count": 18,
   "metadata": {
    "execution": {
     "iopub.execute_input": "2025-08-13T06:01:20.924937Z",
     "iopub.status.busy": "2025-08-13T06:01:20.924656Z",
     "iopub.status.idle": "2025-08-13T06:01:22.297718Z",
     "shell.execute_reply": "2025-08-13T06:01:22.296934Z",
     "shell.execute_reply.started": "2025-08-13T06:01:20.924913Z"
    },
    "trusted": true
   },
   "outputs": [
    {
     "data": {
      "application/vnd.jupyter.widget-view+json": {
       "model_id": "e988d9de1cac462ab755d885da86d1dc",
       "version_major": 2,
       "version_minor": 0
      },
      "text/plain": [
       "Downloading builder script: 0.00B [00:00, ?B/s]"
      ]
     },
     "metadata": {},
     "output_type": "display_data"
    }
   ],
   "source": [
    "# Define data collator and evaluation metric\n",
    "data_collator = DataCollatorForSeq2Seq(tokenizer, model=model)\n",
    "metric = evaluate.load(\"sacrebleu\")\n",
    "\n",
    "def postprocess_text(preds, labels):\n",
    "    \"\"\"Helper function to strip whitespace and format labels for sacrebleu.\"\"\"\n",
    "    preds = [pred.strip() for pred in preds if pred.strip()]  # Skip empty predictions\n",
    "    labels = [[label.strip()] for label in labels if label.strip()]  # Skip empty labels\n",
    "    return preds, labels\n",
    "\n",
    "def compute_metrics(eval_preds):\n",
    "    try:\n",
    "        preds, labels = eval_preds\n",
    "        if isinstance(preds, tuple):\n",
    "            preds = preds[0]\n",
    "        decoded_preds = tokenizer.batch_decode(preds, skip_special_tokens=True)\n",
    "        labels = np.where(labels != -100, labels, tokenizer.pad_token_id)\n",
    "        decoded_labels = tokenizer.batch_decode(labels, skip_special_tokens=True)\n",
    "        decoded_preds, decoded_labels = postprocess_text(decoded_preds, decoded_labels)\n",
    "        if not decoded_preds or not decoded_labels:\n",
    "            print(\"Warning: Empty predictions or labels after postprocessing.\")\n",
    "            return {\"bleu\": 0.0}\n",
    "        result = metric.compute(predictions=decoded_preds, references=decoded_labels)\n",
    "        return {\"bleu\": result[\"score\"]}\n",
    "    except Exception as e:\n",
    "        print(f\"Error in compute_metrics: {e}\")\n",
    "        return {\"bleu\": 0.0}\n"
   ]
  },
  {
   "cell_type": "code",
   "execution_count": 19,
   "metadata": {
    "execution": {
     "iopub.execute_input": "2025-08-13T06:01:22.299552Z",
     "iopub.status.busy": "2025-08-13T06:01:22.298553Z",
     "iopub.status.idle": "2025-08-13T06:01:22.631802Z",
     "shell.execute_reply": "2025-08-13T06:01:22.631200Z",
     "shell.execute_reply.started": "2025-08-13T06:01:22.299532Z"
    },
    "trusted": true
   },
   "outputs": [
    {
     "name": "stderr",
     "output_type": "stream",
     "text": [
      "No label_names provided for model class `PeftModelForSeq2SeqLM`. Since `PeftModel` hides base models input arguments, if label_names is not given, label_names can't be set automatically within `Trainer`. Note that empty label_names list will be used instead.\n"
     ]
    }
   ],
   "source": [
    "# Initialize Trainer with EarlyStoppingCallback\n",
    "trainer = Seq2SeqTrainer(\n",
    "    model=model,\n",
    "    args=training_args,\n",
    "    train_dataset=tokenized_datasets[\"train\"],\n",
    "    eval_dataset=tokenized_datasets[\"validation\"],\n",
    "    data_collator=data_collator,\n",
    "    processing_class=tokenizer,  # Fix tokenizer deprecation\n",
    "    compute_metrics=compute_metrics,\n",
    "    callbacks=[early_stopping],  # Stop after 3 non-improving evals\n",
    ")"
   ]
  },
  {
   "cell_type": "code",
   "execution_count": 20,
   "metadata": {
    "execution": {
     "iopub.execute_input": "2025-08-13T06:01:22.632737Z",
     "iopub.status.busy": "2025-08-13T06:01:22.632462Z",
     "iopub.status.idle": "2025-08-13T06:01:22.636150Z",
     "shell.execute_reply": "2025-08-13T06:01:22.635334Z",
     "shell.execute_reply.started": "2025-08-13T06:01:22.632718Z"
    },
    "trusted": true
   },
   "outputs": [],
   "source": [
    "# Flag to resume training\n",
    "resume_training = True  # Set to True to resume from last checkpoint"
   ]
  },
  {
   "cell_type": "code",
   "execution_count": 44,
   "metadata": {
    "execution": {
     "iopub.execute_input": "2025-08-13T04:36:30.443068Z",
     "iopub.status.busy": "2025-08-13T04:36:30.442806Z",
     "iopub.status.idle": "2025-08-13T05:40:36.237159Z",
     "shell.execute_reply": "2025-08-13T05:40:36.236205Z",
     "shell.execute_reply.started": "2025-08-13T04:36:30.443050Z"
    },
    "trusted": true
   },
   "outputs": [
    {
     "data": {
      "text/html": [
       "\n",
       "    <div>\n",
       "      \n",
       "      <progress value='1596' max='1596' style='width:300px; height:20px; vertical-align: middle;'></progress>\n",
       "      [1596/1596 1:04:03, Epoch 3/3]\n",
       "    </div>\n",
       "    <table border=\"1\" class=\"dataframe\">\n",
       "  <thead>\n",
       " <tr style=\"text-align: left;\">\n",
       "      <th>Step</th>\n",
       "      <th>Training Loss</th>\n",
       "      <th>Validation Loss</th>\n",
       "      <th>Bleu</th>\n",
       "    </tr>\n",
       "  </thead>\n",
       "  <tbody>\n",
       "    <tr>\n",
       "      <td>300</td>\n",
       "      <td>5.561100</td>\n",
       "      <td>5.361969</td>\n",
       "      <td>6.783580</td>\n",
       "    </tr>\n",
       "    <tr>\n",
       "      <td>600</td>\n",
       "      <td>4.025800</td>\n",
       "      <td>3.685468</td>\n",
       "      <td>6.847987</td>\n",
       "    </tr>\n",
       "    <tr>\n",
       "      <td>900</td>\n",
       "      <td>2.411600</td>\n",
       "      <td>2.184927</td>\n",
       "      <td>6.974576</td>\n",
       "    </tr>\n",
       "    <tr>\n",
       "      <td>1200</td>\n",
       "      <td>1.936700</td>\n",
       "      <td>1.831466</td>\n",
       "      <td>7.026545</td>\n",
       "    </tr>\n",
       "    <tr>\n",
       "      <td>1500</td>\n",
       "      <td>1.857400</td>\n",
       "      <td>1.773879</td>\n",
       "      <td>7.055632</td>\n",
       "    </tr>\n",
       "  </tbody>\n",
       "</table><p>"
      ],
      "text/plain": [
       "<IPython.core.display.HTML object>"
      ]
     },
     "metadata": {},
     "output_type": "display_data"
    }
   ],
   "source": [
    "# Total Steps=ceil(Total Training Examples/(Batch Size×Gradient Accumulation Steps))×Number of Epochs\n",
    "# Train or resume\n",
    "try:\n",
    "    # trainer.train(resume_from_checkpoint=resume_training)\n",
    "    trainer.train()\n",
    "except Exception as e:\n",
    "    print(f\"Error during training: {e}\")\n",
    "    exit()"
   ]
  },
  {
   "cell_type": "code",
   "execution_count": 21,
   "metadata": {
    "execution": {
     "iopub.execute_input": "2025-08-13T06:01:27.588583Z",
     "iopub.status.busy": "2025-08-13T06:01:27.587865Z",
     "iopub.status.idle": "2025-08-13T07:02:36.243337Z",
     "shell.execute_reply": "2025-08-13T07:02:36.242693Z",
     "shell.execute_reply.started": "2025-08-13T06:01:27.588556Z"
    },
    "trusted": true
   },
   "outputs": [
    {
     "data": {
      "text/html": [
       "\n",
       "    <div>\n",
       "      \n",
       "      <progress value='3192' max='3192' style='width:300px; height:20px; vertical-align: middle;'></progress>\n",
       "      [3192/3192 1:01:06, Epoch 6/6]\n",
       "    </div>\n",
       "    <table border=\"1\" class=\"dataframe\">\n",
       "  <thead>\n",
       " <tr style=\"text-align: left;\">\n",
       "      <th>Step</th>\n",
       "      <th>Training Loss</th>\n",
       "      <th>Validation Loss</th>\n",
       "      <th>Bleu</th>\n",
       "    </tr>\n",
       "  </thead>\n",
       "  <tbody>\n",
       "    <tr>\n",
       "      <td>1800</td>\n",
       "      <td>1.677500</td>\n",
       "      <td>1.605287</td>\n",
       "      <td>7.099071</td>\n",
       "    </tr>\n",
       "    <tr>\n",
       "      <td>2100</td>\n",
       "      <td>1.577100</td>\n",
       "      <td>1.526071</td>\n",
       "      <td>7.197022</td>\n",
       "    </tr>\n",
       "    <tr>\n",
       "      <td>2400</td>\n",
       "      <td>1.565500</td>\n",
       "      <td>1.497209</td>\n",
       "      <td>7.323922</td>\n",
       "    </tr>\n",
       "    <tr>\n",
       "      <td>2700</td>\n",
       "      <td>1.521800</td>\n",
       "      <td>1.485494</td>\n",
       "      <td>7.307513</td>\n",
       "    </tr>\n",
       "    <tr>\n",
       "      <td>3000</td>\n",
       "      <td>1.520000</td>\n",
       "      <td>1.481954</td>\n",
       "      <td>7.318408</td>\n",
       "    </tr>\n",
       "  </tbody>\n",
       "</table><p>"
      ],
      "text/plain": [
       "<IPython.core.display.HTML object>"
      ]
     },
     "metadata": {},
     "output_type": "display_data"
    }
   ],
   "source": [
    "# Total Steps=ceil(Total Training Examples/(Batch Size×Gradient Accumulation Steps))×Number of Epochs\n",
    "# Train or resume\n",
    "try:\n",
    "    trainer.train(resume_from_checkpoint=resume_training)\n",
    "    # trainer.train()\n",
    "except Exception as e:\n",
    "    print(f\"Error during training: {e}\")\n",
    "    exit()"
   ]
  },
  {
   "cell_type": "code",
   "execution_count": 22,
   "metadata": {
    "execution": {
     "iopub.execute_input": "2025-08-13T07:03:35.774517Z",
     "iopub.status.busy": "2025-08-13T07:03:35.774176Z",
     "iopub.status.idle": "2025-08-13T07:03:36.294999Z",
     "shell.execute_reply": "2025-08-13T07:03:36.294403Z",
     "shell.execute_reply.started": "2025-08-13T07:03:35.774490Z"
    },
    "trusted": true
   },
   "outputs": [
    {
     "name": "stdout",
     "output_type": "stream",
     "text": [
      "Final LoRA adapter and tokenizer saved to '/kaggle/working/final_lora_adapter'\n"
     ]
    }
   ],
   "source": [
    "# Step 10: Save the LoRA adapter\n",
    "final_adapter_path = \"/kaggle/working/final_lora_adapter\"\n",
    "trainer.save_model(final_adapter_path)\n",
    "print(f\"Final LoRA adapter and tokenizer saved to '{final_adapter_path}'\")"
   ]
  },
  {
   "cell_type": "code",
   "execution_count": 23,
   "metadata": {
    "execution": {
     "iopub.execute_input": "2025-08-13T07:03:41.446721Z",
     "iopub.status.busy": "2025-08-13T07:03:41.446446Z",
     "iopub.status.idle": "2025-08-13T07:03:43.895184Z",
     "shell.execute_reply": "2025-08-13T07:03:43.894579Z",
     "shell.execute_reply.started": "2025-08-13T07:03:41.446699Z"
    },
    "trusted": true
   },
   "outputs": [
    {
     "name": "stdout",
     "output_type": "stream",
     "text": [
      "Starting the merge process...\n",
      "Adapters loaded onto the quantized model.\n",
      "Model and adapters merged successfully.\n"
     ]
    },
    {
     "name": "stderr",
     "output_type": "stream",
     "text": [
      "/usr/local/lib/python3.11/dist-packages/transformers/modeling_utils.py:3465: UserWarning: Moving the following attributes in the config to the generation config: {'max_length': 512, 'num_beams': 4, 'bad_words_ids': [[61949]]}. You are seeing this warning because you've set generation parameters in the model config, as opposed to in the generation config.\n",
      "  warnings.warn(\n"
     ]
    },
    {
     "name": "stdout",
     "output_type": "stream",
     "text": [
      "Full, fine-tuned model saved to '/kaggle/working/opus-mt-en-hi-4-bit-quantized-finetuned-model'\n"
     ]
    }
   ],
   "source": [
    "print(\"Starting the merge process...\")\n",
    "\n",
    "# --- Step 2: Load the base model in full precision ---\n",
    "# We need to load it in float32 to be able to merge the weights\n",
    "base_model = MarianMTModel.from_pretrained(\n",
    "    model_name,\n",
    "    torch_dtype=torch.float32,\n",
    ")\n",
    "\n",
    "# The path where i save the full, merged model\n",
    "output_dir = \"/kaggle/working/opus-mt-en-hi-4-bit-quantized-finetuned-model\"\n",
    "\n",
    "# Load the PEFT model with your trained adapters\n",
    "# This loads the base model and attaches the adapters to it\n",
    "peft_model = PeftModel.from_pretrained(\n",
    "    base_model,\n",
    "    final_adapter_path,\n",
    ")\n",
    "print(\"Adapters loaded onto the quantized model.\")\n",
    "\n",
    "# Merge the adapters into the base model\n",
    "# This is the key step that combines the weights\n",
    "merged_model = peft_model.merge_and_unload()\n",
    "print(\"Model and adapters merged successfully.\")\n",
    "\n",
    "# Save the complete model and tokenizer\n",
    "# This saves the full model, which can be loaded without PEFT\n",
    "merged_model.save_pretrained(output_dir)\n",
    "tokenizer.save_pretrained(output_dir)\n",
    "\n",
    "print(f\"Full, fine-tuned model saved to '{output_dir}'\")"
   ]
  },
  {
   "cell_type": "code",
   "execution_count": 25,
   "metadata": {
    "execution": {
     "iopub.execute_input": "2025-08-13T07:06:17.046164Z",
     "iopub.status.busy": "2025-08-13T07:06:17.045351Z",
     "iopub.status.idle": "2025-08-13T07:15:00.085971Z",
     "shell.execute_reply": "2025-08-13T07:15:00.085279Z",
     "shell.execute_reply.started": "2025-08-13T07:06:17.046138Z"
    },
    "trusted": true
   },
   "outputs": [
    {
     "name": "stdout",
     "output_type": "stream",
     "text": [
      "\n",
      "--- Preparing Model for Inference ---\n"
     ]
    },
    {
     "name": "stderr",
     "output_type": "stream",
     "text": [
      "Device set to use cuda:0\n"
     ]
    },
    {
     "name": "stdout",
     "output_type": "stream",
     "text": [
      "merged model loaded.\n",
      "\n",
      "--- Testing Translation ---\n",
      "Original: Hello, how are you?\n",
      "Translated: हैलो, तुम कैसे हो?\n",
      "\n",
      "--- Evaluating on Test Set ---\n"
     ]
    },
    {
     "data": {
      "text/html": [
       "\n",
       "    <div>\n",
       "      \n",
       "      <progress value='188' max='188' style='width:300px; height:20px; vertical-align: middle;'></progress>\n",
       "      [188/188 08:06]\n",
       "    </div>\n",
       "    "
      ],
      "text/plain": [
       "<IPython.core.display.HTML object>"
      ]
     },
     "metadata": {},
     "output_type": "display_data"
    },
    {
     "name": "stdout",
     "output_type": "stream",
     "text": [
      "Test Set BLEU Score: 7.0479\n"
     ]
    }
   ],
   "source": [
    "\n",
    "# Load model for inference\n",
    "final_adapter_path = \"/kaggle/working/final_lora_adapter\"\n",
    "print(\"\\n--- Preparing Model for Inference ---\")\n",
    "try:\n",
    "    model_path = \"/kaggle/working/opus-mt-en-hi-4-bit-quantized-finetuned-model\"\n",
    "    # Load the tokenizer and the model from the local path\n",
    "    tokenizer = AutoTokenizer.from_pretrained(model_path)\n",
    "    inference_model = MarianMTModel.from_pretrained(model_path, device_map='auto')\n",
    "    print(\"merged model loaded.\")\n",
    "except Exception as e:\n",
    "    print(f\"Error loading model for inference: {e}\")\n",
    "    exit()\n",
    "\n",
    "# Test the merged model\n",
    "inference_model.eval() # Set the model to evaluation mode\n",
    "print(\"\\n--- Testing Translation ---\")\n",
    "translator = pipeline(\n",
    "    \"translation\",\n",
    "    model=inference_model,\n",
    "    tokenizer=tokenizer\n",
    ")\n",
    "text = \"Hello, how are you?\"\n",
    "translated = translator(text)\n",
    "print(f\"Original: {text}\")\n",
    "print(f\"Translated: {translated[0]['translation_text']}\")\n",
    "\n",
    "# Step 13: Evaluate on test set\n",
    "print(\"\\n--- Evaluating on Test Set ---\")\n",
    "test_results = trainer.evaluate(eval_dataset=tokenized_datasets[\"test\"])\n",
    "print(f\"Test Set BLEU Score: {test_results['eval_bleu']:.4f}\")\n"
   ]
  },
  {
   "cell_type": "code",
   "execution_count": 14,
   "metadata": {
    "execution": {
     "iopub.execute_input": "2025-08-12T18:49:29.787957Z",
     "iopub.status.busy": "2025-08-12T18:49:29.787216Z",
     "iopub.status.idle": "2025-08-12T18:49:30.576638Z",
     "shell.execute_reply": "2025-08-12T18:49:30.576036Z",
     "shell.execute_reply.started": "2025-08-12T18:49:29.787933Z"
    },
    "trusted": true
   },
   "outputs": [
    {
     "name": "stdout",
     "output_type": "stream",
     "text": [
      "\n",
      "--- Evaluating on Test Set ---\n",
      "Test Set BLEU Score: 7.0799\n"
     ]
    }
   ],
   "source": [
    "print(\"\\n--- Evaluating on Test Set ---\")\n",
    "\n",
    "predictions = []\n",
    "references = []\n",
    "\n",
    "for example in tokenized_datasets[\"test\"]:\n",
    "    # 1. Decode the input_ids back to a string\n",
    "    # skip_special_tokens=True removes padding and other special tokens\n",
    "    source_text = tokenizer.decode(example[\"input_ids\"], skip_special_tokens=True)\n",
    "    \n",
    "    # 2. Generate the translation using the pipeline with the corrected string input\n",
    "    translated_output = translator(source_text)\n",
    "    \n",
    "    # Extract the generated text\n",
    "    predicted_text = translated_output[0]['translation_text']\n",
    "    \n",
    "    # 3. Decode the labels to get the reference string\n",
    "    # We must filter out the -100 labels, which are used to ignore padding in loss calculation\n",
    "    label_ids = [label for label in example[\"labels\"] if label != -100]\n",
    "    reference_text = tokenizer.decode(label_ids, skip_special_tokens=True)\n",
    "\n",
    "    predictions.append(predicted_text)\n",
    "    # The metric expects a list of lists for references\n",
    "    references.append([reference_text])\n",
    "\n",
    "metric = evaluate.load(\"sacrebleu\")\n",
    "# Compute the BLEU score\n",
    "results = metric.compute(predictions=predictions, references=references)\n",
    "\n",
    "print(f\"Test Set BLEU Score: {results['score']:.4f}\")"
   ]
  },
  {
   "cell_type": "code",
   "execution_count": 24,
   "metadata": {
    "execution": {
     "iopub.execute_input": "2025-08-13T07:03:53.273928Z",
     "iopub.status.busy": "2025-08-13T07:03:53.273674Z",
     "iopub.status.idle": "2025-08-13T07:04:08.755608Z",
     "shell.execute_reply": "2025-08-13T07:04:08.754836Z",
     "shell.execute_reply.started": "2025-08-13T07:03:53.273911Z"
    },
    "trusted": true
   },
   "outputs": [
    {
     "name": "stdout",
     "output_type": "stream",
     "text": [
      "Successfully created zip archive at: /kaggle/working/opus-mt-en-hi-4-bit-quantized-finetuned-model.zip\n"
     ]
    }
   ],
   "source": [
    "import shutil\n",
    "import os\n",
    "directory_to_zip = \"/kaggle/working/opus-mt-en-hi-4-bit-quantized-finetuned-model\"\n",
    "output_zip_file = \"/kaggle/working/opus-mt-en-hi-4-bit-quantized-finetuned-model\"\n",
    "def zip_directory(directory_path, output_path):\n",
    "    \"\"\"\n",
    "    Compresses a directory into a zip archive.\n",
    "\n",
    "    This function uses shutil.make_archive, which is the standard\n",
    "    and recommended way to create an archive from a directory.\n",
    "\n",
    "    Args:\n",
    "        directory_path (str): The path to the directory to be zipped.\n",
    "        output_path (str): The desired path and filename for the output\n",
    "                           zip archive (without the .zip extension).\n",
    "    \"\"\"\n",
    "    try:\n",
    "        # The 'zip' argument specifies the archive format.\n",
    "        # The base_dir argument specifies the directory to be archived.\n",
    "        shutil.make_archive(output_path, 'zip', directory_path)\n",
    "        print(f\"Successfully created zip archive at: {output_path}.zip\")\n",
    "    except Exception as e:\n",
    "        print(f\"An error occurred: {e}\")\n",
    "zip_directory(directory_to_zip, output_zip_file)"
   ]
  },
  {
   "cell_type": "code",
   "execution_count": null,
   "metadata": {
    "trusted": true
   },
   "outputs": [],
   "source": [
    "\n",
    "# Step 14: Clean up intermediate files\n",
    "print(\"\\n--- Cleaning up intermediate files ---\")\n",
    "for file in [\"train.csv\", \"val.csv\", \"test.csv\", \"train_tokenized.json\", \"val_tokenized.json\", \"test_tokenized.json\"]:\n",
    "    try:\n",
    "        os.remove(f\"/kaggle/working/{file}\")\n",
    "        print(f\"Removed /kaggle/working/{file}.\")\n",
    "    except OSError as e:\n",
    "        print(f\"Error removing /kaggle/working/{file}: {e}\")"
   ]
  }
 ],
 "metadata": {
  "kaggle": {
   "accelerator": "gpu",
   "dataSources": [
    {
     "datasetId": 492138,
     "sourceId": 915334,
     "sourceType": "datasetVersion"
    },
    {
     "datasetId": 789090,
     "sourceId": 1355361,
     "sourceType": "datasetVersion"
    }
   ],
   "dockerImageVersionId": 31090,
   "isGpuEnabled": true,
   "isInternetEnabled": true,
   "language": "python",
   "sourceType": "notebook"
  },
  "kernelspec": {
   "display_name": "Python 3",
   "language": "python",
   "name": "python3"
  },
  "language_info": {
   "codemirror_mode": {
    "name": "ipython",
    "version": 3
   },
   "file_extension": ".py",
   "mimetype": "text/x-python",
   "name": "python",
   "nbconvert_exporter": "python",
   "pygments_lexer": "ipython3",
   "version": "3.11.13"
  }
 },
 "nbformat": 4,
 "nbformat_minor": 4
}
